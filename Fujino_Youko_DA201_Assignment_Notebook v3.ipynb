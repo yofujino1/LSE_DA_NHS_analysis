{
 "cells": [
  {
   "cell_type": "markdown",
   "id": "eb92d5a7",
   "metadata": {},
   "source": [
    "### LSE Data Analytics Online Career Accelerator\n",
    "\n",
    "# Course 2: Data Analytics using Python"
   ]
  },
  {
   "cell_type": "markdown",
   "id": "0ea7e113",
   "metadata": {},
   "source": [
    "## Assignment: Diagnostic Analysis using Python\n",
    "\n",
    "You’ll be working with real-world data to address a problem faced by the National Health Service (NHS). The analysis will require you to utilise Python to explore the available data, create visualisations to explore and communicate trends, and extract meaningful insights to inform decision-making. This Jupyter Notebook is the starting point and it is important to document all your decisions and observations to ensure that these are available as inputs to the technical report and business presentation that will form part of your submission."
   ]
  },
  {
   "cell_type": "markdown",
   "id": "bce4b767",
   "metadata": {
    "tags": []
   },
   "source": [
    "### A note for students using this template\n",
    "This Jupyter Notebook is a template you can use to complete the Course 2 assignment: Diagnostic Analysis using Python. \n",
    "Keep in mind the following points: \n",
    "- Using this template as your working document is optional, it is **not required** to use this template to complete the assignment. \n",
    "- The intention of the template is to provide suggestions regarding the structure and workflow that is expected and it follows the assignment activites throughout the course.\n",
    "- Refer to the guidance in the Assignment Activity pages for specific details. \n",
    "- The markup and comments in this template identify the key elements you need to complete before submitting the assignment.\n",
    "- Make this notebook your own by adding comments, cells, and content to reflect your analytical journey. You can add links, screenshots, or images to support your analysis, refine or clarify the questions, and change the workflow to suit your process. Important elements include:\n",
    "    - code comments\n",
    "    - Markdown cells with your observations, interpretation, and notes in anticipation of the technical report and business presentation.\n",
    "- All code output and visualisations should be functional and visible in the submitted Jupyter Notebook. \n",
    "- If you decide to use this template for your assignment, make a copy of the notebook and save it using the assignment naming convention: **LastName_FirstName_DA201_Assignment_Notebook.ipynb**.\n",
    "- Be sure to save frequent snapshots of your Jupyter Notebook to ensure that you can recover work if required.\n",
    "\n",
    " > ***Markdown*** Remember to change cell types to `Markdown`. You can review [Markdown basics](https://docs.github.com/en/ge\n",
    "t-started/writing-on-github/getting-started-with-writing-and-formatting-on-github/basic-writing-and-formatting-syntax) to find out how to add formatted text, links, and images to your notebook.\n",
    " \n",
    " \n",
    " > ***Notebook state*** Remember that you will have to execute all the code in your notebook (from the start of the notebook to where you are currently working) every time you restart your Jupyter Notebook server or when working in a new session. Make sure that your notebook is in the correct state before continuing with the work for the current module."
   ]
  },
  {
   "cell_type": "markdown",
   "id": "58626ff1-5d46-400c-aaee-9868e78f6175",
   "metadata": {},
   "source": [
    "# "
   ]
  },
  {
   "cell_type": "markdown",
   "id": "0834b036",
   "metadata": {},
   "source": [
    "## 1) Assignment activity 1\n",
    "In the first module you are encouraged to explore the data and the provided template. You should also reflect on the scenario and use case and start to document your own interpretation of the business questions and how you will go about answering them."
   ]
  },
  {
   "cell_type": "markdown",
   "id": "238aa03f",
   "metadata": {},
   "source": [
    "## Steps\n",
    "1) Import all necessary libraries \\\n",
    "2) Import the files using the read functions for each data type (excel, csv, etc) \\\n",
    "3) Visualise what is stored in the datasets series using. column; .head(), .shape ; .dtypes \\\n",
    "4) Check for missing values using the. isna() function and, from that, calculate number of missing values \\\n",
    "5) Explore the business questions after reviewing the different datasets"
   ]
  },
  {
   "cell_type": "code",
   "execution_count": 1,
   "id": "52c59f1e",
   "metadata": {},
   "outputs": [],
   "source": [
    "import pandas as pd\n",
    "import matplotlib.pyplot as plt\n",
    "import seaborn as sns\n",
    "import requests\n",
    "import json\n",
    "import numpy as np\n",
    "import ipywidgets as widgets\n",
    "import time\n",
    "import scipy as sp\n",
    "import statsmodels.api as sm\n",
    "import datetime\n",
    "import os"
   ]
  },
  {
   "cell_type": "markdown",
   "id": "7277ad5c",
   "metadata": {},
   "source": [
    "## Datasets Exploration"
   ]
  },
  {
   "cell_type": "markdown",
   "id": "c7dd87f3",
   "metadata": {},
   "source": [
    "##  Available Datasets\n",
    "1. actual_duration.csv – Details of appointments made by patients. For example, the regional information, date, duration, and number of appointments pertaining to a certain class.\n",
    "2. appointments_regional.csv – Details on the type of appointments made by patients. For example, regional information, the month of appointment, appointment status, healthcare professional, appointment mode, the time between booking and the appointment, as well as the number of appointments pertaining to a certain class.\n",
    "3. national_categories.xlsx – Details of the national categories of appointments made by patients. For example, the regional information, date of appointment, service setting, type of context, national category, and the number of appointments pertaining to a certain class.\n",
    "4. tweets.csv – Data related to healthcare in the UK scraped from Twitter.\n",
    "5. metadata_nhs.txt – Details of the data set, data quality, and reference.\n"
   ]
  },
  {
   "cell_type": "markdown",
   "id": "8522f897",
   "metadata": {},
   "source": [
    "## Steps\n",
    "**2)Import the files using the read functions for each data type (excel, csv, etc)\\\n",
    "3)Visualise what is stored in the datasets series using. column; .head(), .shape ; .dtypes.**"
   ]
  },
  {
   "cell_type": "code",
   "execution_count": 2,
   "id": "22010e36-6815-4fc4-ac14-e4879e921df1",
   "metadata": {
    "scrolled": false
   },
   "outputs": [
    {
     "data": {
      "text/html": [
       "<div>\n",
       "<style scoped>\n",
       "    .dataframe tbody tr th:only-of-type {\n",
       "        vertical-align: middle;\n",
       "    }\n",
       "\n",
       "    .dataframe tbody tr th {\n",
       "        vertical-align: top;\n",
       "    }\n",
       "\n",
       "    .dataframe thead th {\n",
       "        text-align: right;\n",
       "    }\n",
       "</style>\n",
       "<table border=\"1\" class=\"dataframe\">\n",
       "  <thead>\n",
       "    <tr style=\"text-align: right;\">\n",
       "      <th></th>\n",
       "      <th>sub_icb_location_code</th>\n",
       "      <th>sub_icb_location_ons_code</th>\n",
       "      <th>sub_icb_location_name</th>\n",
       "      <th>icb_ons_code</th>\n",
       "      <th>region_ons_code</th>\n",
       "      <th>appointment_date</th>\n",
       "      <th>actual_duration</th>\n",
       "      <th>count_of_appointments</th>\n",
       "    </tr>\n",
       "  </thead>\n",
       "  <tbody>\n",
       "    <tr>\n",
       "      <th>0</th>\n",
       "      <td>00L</td>\n",
       "      <td>E38000130</td>\n",
       "      <td>NHS North East and North Cumbria ICB - 00L</td>\n",
       "      <td>E54000050</td>\n",
       "      <td>E40000012</td>\n",
       "      <td>01-Dec-21</td>\n",
       "      <td>31-60 Minutes</td>\n",
       "      <td>364</td>\n",
       "    </tr>\n",
       "    <tr>\n",
       "      <th>1</th>\n",
       "      <td>00L</td>\n",
       "      <td>E38000130</td>\n",
       "      <td>NHS North East and North Cumbria ICB - 00L</td>\n",
       "      <td>E54000050</td>\n",
       "      <td>E40000012</td>\n",
       "      <td>01-Dec-21</td>\n",
       "      <td>21-30 Minutes</td>\n",
       "      <td>619</td>\n",
       "    </tr>\n",
       "    <tr>\n",
       "      <th>2</th>\n",
       "      <td>00L</td>\n",
       "      <td>E38000130</td>\n",
       "      <td>NHS North East and North Cumbria ICB - 00L</td>\n",
       "      <td>E54000050</td>\n",
       "      <td>E40000012</td>\n",
       "      <td>01-Dec-21</td>\n",
       "      <td>6-10 Minutes</td>\n",
       "      <td>1698</td>\n",
       "    </tr>\n",
       "    <tr>\n",
       "      <th>3</th>\n",
       "      <td>00L</td>\n",
       "      <td>E38000130</td>\n",
       "      <td>NHS North East and North Cumbria ICB - 00L</td>\n",
       "      <td>E54000050</td>\n",
       "      <td>E40000012</td>\n",
       "      <td>01-Dec-21</td>\n",
       "      <td>Unknown / Data Quality</td>\n",
       "      <td>1277</td>\n",
       "    </tr>\n",
       "    <tr>\n",
       "      <th>4</th>\n",
       "      <td>00L</td>\n",
       "      <td>E38000130</td>\n",
       "      <td>NHS North East and North Cumbria ICB - 00L</td>\n",
       "      <td>E54000050</td>\n",
       "      <td>E40000012</td>\n",
       "      <td>01-Dec-21</td>\n",
       "      <td>16-20 Minutes</td>\n",
       "      <td>730</td>\n",
       "    </tr>\n",
       "  </tbody>\n",
       "</table>\n",
       "</div>"
      ],
      "text/plain": [
       "  sub_icb_location_code sub_icb_location_ons_code  \\\n",
       "0                   00L                 E38000130   \n",
       "1                   00L                 E38000130   \n",
       "2                   00L                 E38000130   \n",
       "3                   00L                 E38000130   \n",
       "4                   00L                 E38000130   \n",
       "\n",
       "                        sub_icb_location_name icb_ons_code region_ons_code  \\\n",
       "0  NHS North East and North Cumbria ICB - 00L    E54000050       E40000012   \n",
       "1  NHS North East and North Cumbria ICB - 00L    E54000050       E40000012   \n",
       "2  NHS North East and North Cumbria ICB - 00L    E54000050       E40000012   \n",
       "3  NHS North East and North Cumbria ICB - 00L    E54000050       E40000012   \n",
       "4  NHS North East and North Cumbria ICB - 00L    E54000050       E40000012   \n",
       "\n",
       "  appointment_date         actual_duration  count_of_appointments  \n",
       "0        01-Dec-21           31-60 Minutes                    364  \n",
       "1        01-Dec-21           21-30 Minutes                    619  \n",
       "2        01-Dec-21            6-10 Minutes                   1698  \n",
       "3        01-Dec-21  Unknown / Data Quality                   1277  \n",
       "4        01-Dec-21           16-20 Minutes                    730  "
      ]
     },
     "execution_count": 2,
     "metadata": {},
     "output_type": "execute_result"
    }
   ],
   "source": [
    "#start reading all the  files\n",
    "\n",
    "# Use the pd.read_csv() function.\n",
    "ad = pd.read_csv('actual_duration.csv')\n",
    "                    \n",
    "# Print the DataFrame.\n",
    "ad\n",
    "#Call the dataframe\n",
    "ad.head()"
   ]
  },
  {
   "cell_type": "code",
   "execution_count": 3,
   "id": "2eda7849",
   "metadata": {},
   "outputs": [
    {
     "data": {
      "text/plain": [
       "(137793, 8)"
      ]
     },
     "execution_count": 3,
     "metadata": {},
     "output_type": "execute_result"
    }
   ],
   "source": [
    "ad.shape #check the number of row and columns of the file"
   ]
  },
  {
   "cell_type": "code",
   "execution_count": 4,
   "id": "0c5ebc2f",
   "metadata": {},
   "outputs": [
    {
     "data": {
      "text/plain": [
       "Index(['sub_icb_location_code', 'sub_icb_location_ons_code',\n",
       "       'sub_icb_location_name', 'icb_ons_code', 'region_ons_code',\n",
       "       'appointment_date', 'actual_duration', 'count_of_appointments'],\n",
       "      dtype='object')"
      ]
     },
     "execution_count": 4,
     "metadata": {},
     "output_type": "execute_result"
    }
   ],
   "source": [
    "ad.columns #check all the variables in the file"
   ]
  },
  {
   "cell_type": "markdown",
   "id": "263e413b",
   "metadata": {},
   "source": [
    "\n",
    "the columns in the actual_duration are:\\\n",
    "['sub_icb_location_code', 'sub_icb_location_ons_code',\n",
    "       'sub_icb_location_name', 'icb_ons_code', 'region_ons_code',\n",
    "       'appointment_date', 'actual_duration', 'count_of_appointments']\n",
    "  "
   ]
  },
  {
   "cell_type": "code",
   "execution_count": 5,
   "id": "36284fcb",
   "metadata": {
    "scrolled": false
   },
   "outputs": [
    {
     "data": {
      "text/html": [
       "<div>\n",
       "<style scoped>\n",
       "    .dataframe tbody tr th:only-of-type {\n",
       "        vertical-align: middle;\n",
       "    }\n",
       "\n",
       "    .dataframe tbody tr th {\n",
       "        vertical-align: top;\n",
       "    }\n",
       "\n",
       "    .dataframe thead th {\n",
       "        text-align: right;\n",
       "    }\n",
       "</style>\n",
       "<table border=\"1\" class=\"dataframe\">\n",
       "  <thead>\n",
       "    <tr style=\"text-align: right;\">\n",
       "      <th></th>\n",
       "      <th>icb_ons_code</th>\n",
       "      <th>appointment_month</th>\n",
       "      <th>appointment_status</th>\n",
       "      <th>hcp_type</th>\n",
       "      <th>appointment_mode</th>\n",
       "      <th>time_between_book_and_appointment</th>\n",
       "      <th>count_of_appointments</th>\n",
       "    </tr>\n",
       "  </thead>\n",
       "  <tbody>\n",
       "    <tr>\n",
       "      <th>0</th>\n",
       "      <td>E54000034</td>\n",
       "      <td>2020-01</td>\n",
       "      <td>Attended</td>\n",
       "      <td>GP</td>\n",
       "      <td>Face-to-Face</td>\n",
       "      <td>1 Day</td>\n",
       "      <td>8107</td>\n",
       "    </tr>\n",
       "    <tr>\n",
       "      <th>1</th>\n",
       "      <td>E54000034</td>\n",
       "      <td>2020-01</td>\n",
       "      <td>Attended</td>\n",
       "      <td>GP</td>\n",
       "      <td>Face-to-Face</td>\n",
       "      <td>15  to 21 Days</td>\n",
       "      <td>6791</td>\n",
       "    </tr>\n",
       "    <tr>\n",
       "      <th>2</th>\n",
       "      <td>E54000034</td>\n",
       "      <td>2020-01</td>\n",
       "      <td>Attended</td>\n",
       "      <td>GP</td>\n",
       "      <td>Face-to-Face</td>\n",
       "      <td>2 to 7 Days</td>\n",
       "      <td>20686</td>\n",
       "    </tr>\n",
       "    <tr>\n",
       "      <th>3</th>\n",
       "      <td>E54000034</td>\n",
       "      <td>2020-01</td>\n",
       "      <td>Attended</td>\n",
       "      <td>GP</td>\n",
       "      <td>Face-to-Face</td>\n",
       "      <td>22  to 28 Days</td>\n",
       "      <td>4268</td>\n",
       "    </tr>\n",
       "    <tr>\n",
       "      <th>4</th>\n",
       "      <td>E54000034</td>\n",
       "      <td>2020-01</td>\n",
       "      <td>Attended</td>\n",
       "      <td>GP</td>\n",
       "      <td>Face-to-Face</td>\n",
       "      <td>8  to 14 Days</td>\n",
       "      <td>11971</td>\n",
       "    </tr>\n",
       "  </tbody>\n",
       "</table>\n",
       "</div>"
      ],
      "text/plain": [
       "  icb_ons_code appointment_month appointment_status hcp_type appointment_mode  \\\n",
       "0    E54000034           2020-01           Attended       GP     Face-to-Face   \n",
       "1    E54000034           2020-01           Attended       GP     Face-to-Face   \n",
       "2    E54000034           2020-01           Attended       GP     Face-to-Face   \n",
       "3    E54000034           2020-01           Attended       GP     Face-to-Face   \n",
       "4    E54000034           2020-01           Attended       GP     Face-to-Face   \n",
       "\n",
       "  time_between_book_and_appointment  count_of_appointments  \n",
       "0                             1 Day                   8107  \n",
       "1                    15  to 21 Days                   6791  \n",
       "2                       2 to 7 Days                  20686  \n",
       "3                    22  to 28 Days                   4268  \n",
       "4                     8  to 14 Days                  11971  "
      ]
     },
     "execution_count": 5,
     "metadata": {},
     "output_type": "execute_result"
    }
   ],
   "source": [
    "# Specify the name of the CSV file.\n",
    "ar = pd.read_csv('appointments_regional.csv')\n",
    "                    \n",
    "# Call the DataFrame.\n",
    "ar.head()"
   ]
  },
  {
   "cell_type": "code",
   "execution_count": 6,
   "id": "833a78ac",
   "metadata": {},
   "outputs": [
    {
     "data": {
      "text/plain": [
       "(596821, 7)"
      ]
     },
     "execution_count": 6,
     "metadata": {},
     "output_type": "execute_result"
    }
   ],
   "source": [
    "ar.shape"
   ]
  },
  {
   "cell_type": "code",
   "execution_count": 7,
   "id": "f4d98e4b",
   "metadata": {
    "scrolled": true
   },
   "outputs": [
    {
     "data": {
      "text/plain": [
       "Index(['icb_ons_code', 'appointment_month', 'appointment_status', 'hcp_type',\n",
       "       'appointment_mode', 'time_between_book_and_appointment',\n",
       "       'count_of_appointments'],\n",
       "      dtype='object')"
      ]
     },
     "execution_count": 7,
     "metadata": {},
     "output_type": "execute_result"
    }
   ],
   "source": [
    "ar.columns"
   ]
  },
  {
   "cell_type": "markdown",
   "id": "6c5aa89b",
   "metadata": {},
   "source": [
    "\n",
    "The columns in the appointment_regional dataset are:\\\n",
    "(['icb_ons_code', 'appointment_month', 'appointment_status', 'hcp_type',\\\n",
    "       'appointment_mode', 'time_between_book_and_appointment', 'count_of_appointments']"
   ]
  },
  {
   "cell_type": "code",
   "execution_count": 8,
   "id": "67e3b00d",
   "metadata": {},
   "outputs": [
    {
     "data": {
      "text/html": [
       "<div>\n",
       "<style scoped>\n",
       "    .dataframe tbody tr th:only-of-type {\n",
       "        vertical-align: middle;\n",
       "    }\n",
       "\n",
       "    .dataframe tbody tr th {\n",
       "        vertical-align: top;\n",
       "    }\n",
       "\n",
       "    .dataframe thead th {\n",
       "        text-align: right;\n",
       "    }\n",
       "</style>\n",
       "<table border=\"1\" class=\"dataframe\">\n",
       "  <thead>\n",
       "    <tr style=\"text-align: right;\">\n",
       "      <th></th>\n",
       "      <th>tweet_id</th>\n",
       "      <th>tweet_full_text</th>\n",
       "      <th>tweet_entities</th>\n",
       "      <th>tweet_entities_hashtags</th>\n",
       "      <th>tweet_metadata</th>\n",
       "      <th>tweet_retweet_count</th>\n",
       "      <th>tweet_favorite_count</th>\n",
       "      <th>tweet_favorited</th>\n",
       "      <th>tweet_retweeted</th>\n",
       "      <th>tweet_lang</th>\n",
       "    </tr>\n",
       "  </thead>\n",
       "  <tbody>\n",
       "    <tr>\n",
       "      <th>0</th>\n",
       "      <td>1567629223795527681</td>\n",
       "      <td>As Arkansas’ first Comprehensive Stroke Certif...</td>\n",
       "      <td>{'hashtags': [{'text': 'Healthcare', 'indices'...</td>\n",
       "      <td>#Healthcare</td>\n",
       "      <td>{'iso_language_code': 'en', 'result_type': 're...</td>\n",
       "      <td>0</td>\n",
       "      <td>0</td>\n",
       "      <td>False</td>\n",
       "      <td>False</td>\n",
       "      <td>en</td>\n",
       "    </tr>\n",
       "    <tr>\n",
       "      <th>1</th>\n",
       "      <td>1567582846612553728</td>\n",
       "      <td>RT @AndreaGrammer: Work-life balance is at the...</td>\n",
       "      <td>{'hashtags': [{'text': 'PremiseHealth', 'indic...</td>\n",
       "      <td>#PremiseHealth, #hiring</td>\n",
       "      <td>{'iso_language_code': 'en', 'result_type': 're...</td>\n",
       "      <td>2</td>\n",
       "      <td>0</td>\n",
       "      <td>False</td>\n",
       "      <td>False</td>\n",
       "      <td>en</td>\n",
       "    </tr>\n",
       "    <tr>\n",
       "      <th>2</th>\n",
       "      <td>1567582787070304256</td>\n",
       "      <td>RT @OntarioGreens: $10 billion can go a long w...</td>\n",
       "      <td>{'hashtags': [{'text': 'Healthcare', 'indices'...</td>\n",
       "      <td>#Healthcare</td>\n",
       "      <td>{'iso_language_code': 'en', 'result_type': 're...</td>\n",
       "      <td>39</td>\n",
       "      <td>0</td>\n",
       "      <td>False</td>\n",
       "      <td>False</td>\n",
       "      <td>en</td>\n",
       "    </tr>\n",
       "    <tr>\n",
       "      <th>3</th>\n",
       "      <td>1567582767625428992</td>\n",
       "      <td>RT @modrnhealthcr: 🚨#NEW:🚨 Insurance companies...</td>\n",
       "      <td>{'hashtags': [{'text': 'NEW', 'indices': [20, ...</td>\n",
       "      <td>#NEW</td>\n",
       "      <td>{'iso_language_code': 'en', 'result_type': 're...</td>\n",
       "      <td>5</td>\n",
       "      <td>0</td>\n",
       "      <td>False</td>\n",
       "      <td>False</td>\n",
       "      <td>en</td>\n",
       "    </tr>\n",
       "    <tr>\n",
       "      <th>4</th>\n",
       "      <td>1567582720460570625</td>\n",
       "      <td>ICYMI: Our recent blogs on Cybersecurity in Ac...</td>\n",
       "      <td>{'hashtags': [{'text': 'blogs', 'indices': [18...</td>\n",
       "      <td>#blogs, #digitaltransformation, #cybersecurity...</td>\n",
       "      <td>{'iso_language_code': 'en', 'result_type': 're...</td>\n",
       "      <td>0</td>\n",
       "      <td>0</td>\n",
       "      <td>False</td>\n",
       "      <td>False</td>\n",
       "      <td>en</td>\n",
       "    </tr>\n",
       "  </tbody>\n",
       "</table>\n",
       "</div>"
      ],
      "text/plain": [
       "              tweet_id                                    tweet_full_text  \\\n",
       "0  1567629223795527681  As Arkansas’ first Comprehensive Stroke Certif...   \n",
       "1  1567582846612553728  RT @AndreaGrammer: Work-life balance is at the...   \n",
       "2  1567582787070304256  RT @OntarioGreens: $10 billion can go a long w...   \n",
       "3  1567582767625428992  RT @modrnhealthcr: 🚨#NEW:🚨 Insurance companies...   \n",
       "4  1567582720460570625  ICYMI: Our recent blogs on Cybersecurity in Ac...   \n",
       "\n",
       "                                      tweet_entities  \\\n",
       "0  {'hashtags': [{'text': 'Healthcare', 'indices'...   \n",
       "1  {'hashtags': [{'text': 'PremiseHealth', 'indic...   \n",
       "2  {'hashtags': [{'text': 'Healthcare', 'indices'...   \n",
       "3  {'hashtags': [{'text': 'NEW', 'indices': [20, ...   \n",
       "4  {'hashtags': [{'text': 'blogs', 'indices': [18...   \n",
       "\n",
       "                             tweet_entities_hashtags  \\\n",
       "0                                        #Healthcare   \n",
       "1                            #PremiseHealth, #hiring   \n",
       "2                                        #Healthcare   \n",
       "3                                               #NEW   \n",
       "4  #blogs, #digitaltransformation, #cybersecurity...   \n",
       "\n",
       "                                      tweet_metadata  tweet_retweet_count  \\\n",
       "0  {'iso_language_code': 'en', 'result_type': 're...                    0   \n",
       "1  {'iso_language_code': 'en', 'result_type': 're...                    2   \n",
       "2  {'iso_language_code': 'en', 'result_type': 're...                   39   \n",
       "3  {'iso_language_code': 'en', 'result_type': 're...                    5   \n",
       "4  {'iso_language_code': 'en', 'result_type': 're...                    0   \n",
       "\n",
       "   tweet_favorite_count  tweet_favorited  tweet_retweeted tweet_lang  \n",
       "0                     0            False            False         en  \n",
       "1                     0            False            False         en  \n",
       "2                     0            False            False         en  \n",
       "3                     0            False            False         en  \n",
       "4                     0            False            False         en  "
      ]
     },
     "execution_count": 8,
     "metadata": {},
     "output_type": "execute_result"
    }
   ],
   "source": [
    "# Specify the name of the CSV file.\n",
    "tweets = pd.read_csv('tweets.csv')\n",
    "                    \n",
    "# Print the DataFrame.\n",
    "tweets\n",
    "tweets.head()\n"
   ]
  },
  {
   "cell_type": "code",
   "execution_count": 9,
   "id": "624032cb",
   "metadata": {},
   "outputs": [
    {
     "data": {
      "text/plain": [
       "Index(['tweet_id', 'tweet_full_text', 'tweet_entities',\n",
       "       'tweet_entities_hashtags', 'tweet_metadata', 'tweet_retweet_count',\n",
       "       'tweet_favorite_count', 'tweet_favorited', 'tweet_retweeted',\n",
       "       'tweet_lang'],\n",
       "      dtype='object')"
      ]
     },
     "execution_count": 9,
     "metadata": {},
     "output_type": "execute_result"
    }
   ],
   "source": [
    "tweets.columns"
   ]
  },
  {
   "cell_type": "code",
   "execution_count": null,
   "id": "a65c11ef",
   "metadata": {},
   "outputs": [],
   "source": [
    "#Read the excel file\n",
    "nc = pd.read_excel('national_categories.xlsx')\n",
    "\n",
    "nc.head()"
   ]
  },
  {
   "cell_type": "code",
   "execution_count": null,
   "id": "8f47d8bd",
   "metadata": {},
   "outputs": [],
   "source": [
    "nc.shape"
   ]
  },
  {
   "cell_type": "code",
   "execution_count": null,
   "id": "a1fd6a95",
   "metadata": {},
   "outputs": [],
   "source": [
    "nc.columns"
   ]
  },
  {
   "cell_type": "markdown",
   "id": "c010a760",
   "metadata": {
    "tags": []
   },
   "source": [
    "## 2) Assignment activity 2\n",
    "#  Exploration and descriptive statistics\n",
    "- Import the three indicated data sources and perform basic exploratory analysis including obtaining descriptive statistics.\n",
    "- Determine and comment on the quality, usefulness, and opportunities contained in the data sets.\n",
    "- Document initial observations and findings.\n",
    "\n",
    "Are there any comments regarding data quality or descriptive statistics worth noting for each of the data sets?\n",
    "Can you comment on other features (columns) that could potentially be useful in your analysis?"
   ]
  },
  {
   "cell_type": "code",
   "execution_count": null,
   "id": "ef565e11",
   "metadata": {},
   "outputs": [],
   "source": [
    "# Import other libraries if required. (Note that you can revisit this section in later modules.)\n",
    "\n",
    "# Optional - Ignore warnings.\n",
    "import warnings\n",
    "warnings.filterwarnings('ignore')"
   ]
  },
  {
   "cell_type": "code",
   "execution_count": null,
   "id": "3c7f2901-f685-4fc9-801f-be4344e65efb",
   "metadata": {},
   "outputs": [],
   "source": [
    "# View the DataFrame actual_durantion (ad)\n",
    "ad.head(5)"
   ]
  },
  {
   "cell_type": "code",
   "execution_count": null,
   "id": "33e3657f-35a4-46dd-bc9f-809433d2f958",
   "metadata": {},
   "outputs": [],
   "source": [
    "# Check for missing values\n",
    "# Create a new DataFrame and use the isna() function to find missing values.\n",
    "ad_na = ad[ad.isna().any(axis=1)]\n",
    "\n",
    "# View the shape of the DataFrame.\n",
    "ad_na.shape\n",
    "\n",
    "#out=(0, 8)\n",
    "\n",
    "#the output says there is ZERO rows with NA values across 8 columns (0,8)"
   ]
  },
  {
   "cell_type": "code",
   "execution_count": null,
   "id": "b5b98e73-9d42-4181-aecb-a3d5822b426f",
   "metadata": {},
   "outputs": [],
   "source": [
    "# Review metadata and descriptive statistics.\n",
    "ad.describe().round(1)\n",
    "#added the round to have only numbers with 1 decimal after the zero\n"
   ]
  },
  {
   "cell_type": "code",
   "execution_count": null,
   "id": "493373d4-6f94-49e5-9833-42640e8d959d",
   "metadata": {},
   "outputs": [],
   "source": [
    "# Import and sense-check 'appointments_regional.csv' as ar.\n",
    "ar = pd.read_csv('appointments_regional.csv')\n",
    "                    "
   ]
  },
  {
   "cell_type": "code",
   "execution_count": null,
   "id": "255823c3",
   "metadata": {},
   "outputs": [],
   "source": [
    "# View the DataFrame.\n",
    "ar.head()"
   ]
  },
  {
   "cell_type": "code",
   "execution_count": null,
   "id": "1daa3556",
   "metadata": {},
   "outputs": [],
   "source": [
    "# Check for missing values\n",
    "# Create a new DataFrame and use the isna() function to find missing values.\n",
    "ar_na = ar[ar.isna().any(axis=1)]\n",
    "\n",
    "# View the shape of the DataFrame.\n",
    "ar_na.shape\n",
    "\n",
    "#out=(0, 7)\n",
    "\n",
    "#the output says there is ZERO rows with NA values across 7 columns (0,8)"
   ]
  },
  {
   "cell_type": "code",
   "execution_count": null,
   "id": "3cbc4d97",
   "metadata": {},
   "outputs": [],
   "source": [
    "# Review metadata and descriptive statistics.\n",
    "ar.describe().round(1)\n",
    "#added the round to have only numbers with 1 decimal after the zero\n"
   ]
  },
  {
   "cell_type": "code",
   "execution_count": null,
   "id": "e7dbbef3",
   "metadata": {},
   "outputs": [],
   "source": [
    "# Check for missing values.\n",
    "tweets_na = tweets[tweets.isna().any(axis=1)]\n",
    "\n",
    "# View the shape of the DataFrame.\n",
    "tweets_na.shape\n",
    "\n",
    "#out=(0, 8)\n",
    "\n",
    "#the output says there is 167 rows with NA values across 10 columns (0,Y)"
   ]
  },
  {
   "cell_type": "code",
   "execution_count": null,
   "id": "a575a173",
   "metadata": {
    "scrolled": true
   },
   "outputs": [],
   "source": [
    "tweets.info()\n",
    "#null rows are located in the tweet_entities_hashtags column"
   ]
  },
  {
   "cell_type": "code",
   "execution_count": null,
   "id": "2066a25b",
   "metadata": {},
   "outputs": [],
   "source": [
    "# Check for missing values.\n",
    "nc_na = nc[nc.isna().any(axis=1)]\n",
    "\n",
    "# View the shape of the DataFrame.\n",
    "nc_na.shape\n",
    "\n",
    "#out=(0, 8)\n"
   ]
  },
  {
   "cell_type": "code",
   "execution_count": null,
   "id": "b87dfc23",
   "metadata": {
    "scrolled": false
   },
   "outputs": [],
   "source": [
    "# Review metadata and descriptive statistics.b\n",
    "nc.describe().round(1)\n",
    "#added the round to have only numbers with 1 decimal after the zero"
   ]
  },
  {
   "cell_type": "code",
   "execution_count": null,
   "id": "76bd03fa",
   "metadata": {
    "scrolled": false
   },
   "outputs": [],
   "source": [
    "nc.info()"
   ]
  },
  {
   "cell_type": "markdown",
   "id": "58a20138",
   "metadata": {},
   "source": [
    "# General Observations\n",
    "-\tThe only numeric variable in the datasets is count_of_appointment\\\n",
    "-\tAbsence of variables on staff numbers or the number of patients to calculate capacity directly\\\n",
    "-\tAbsence of variables related to NHS costs\n"
   ]
  },
  {
   "cell_type": "markdown",
   "id": "03ecb969",
   "metadata": {},
   "source": [
    "## **Question 1:** How many locations are there in the data set? \n",
    "## A1. Number of unique locations: 106"
   ]
  },
  {
   "cell_type": "code",
   "execution_count": null,
   "id": "b855de9e",
   "metadata": {},
   "outputs": [],
   "source": [
    "num_locations = ad['sub_icb_location_name'].nunique()\n",
    "print(\"Number of unique locations:\", num_locations)"
   ]
  },
  {
   "cell_type": "code",
   "execution_count": null,
   "id": "06184d7e",
   "metadata": {},
   "outputs": [],
   "source": [
    "nc.groupby('sub_icb_location_name')[['count_of_appointments']].sum().\\\n",
    "sort_values('count_of_appointments', ascending=False).round(1)"
   ]
  },
  {
   "cell_type": "markdown",
   "id": "1460d2e7",
   "metadata": {},
   "source": [
    "## Q. 2A) What are the five locations with the highest number of records?\n",
    "**These are the 5 locations with the highest number of records**\n",
    "\n",
    "NHS North West London ICB - W2U3Z\t13007\\\n",
    "NHS Kent and Medway ICB - 91Q\t12637\\\n",
    "NHS Devon ICB - 15N\t12526\\\n",
    "NHS Hampshire and Isle Of Wight ICB - D9Y0V\t12171\\\n",
    "NHS North East London ICB - A3A8R\t11837"
   ]
  },
  {
   "cell_type": "code",
   "execution_count": null,
   "id": "50c16a48",
   "metadata": {
    "scrolled": true
   },
   "outputs": [],
   "source": [
    "# Determine the top five locations based on COUNT.\n",
    "nc.groupby('sub_icb_location_name')[['icb_ons_code']].count().sort_values('icb_ons_code', ascending=False).round(1)"
   ]
  },
  {
   "cell_type": "markdown",
   "id": "94f08eea",
   "metadata": {},
   "source": [
    "## Q. 2B) What are the five locations with the highest number of APPOINTMENTS?\n",
    "**These are the 5 locations with the highest number of appointments**\n",
    "NHS North West London ICB - W2U3Z 12142390 \\\n",
    "NHS North East London ICB - A3A8R 9588891 \\\n",
    "NHS Kent and Medway ICB - 91Q 9286167 \\\n",
    "NHS Hampshire and Isle Of Wight ICB - D9Y0V 8288102 \\\n",
    "NHS South East London ICB - 72Q 7850170\\"
   ]
  },
  {
   "cell_type": "code",
   "execution_count": null,
   "id": "9e7c3913",
   "metadata": {
    "scrolled": false
   },
   "outputs": [],
   "source": [
    "# Determine the top five locations based on SUM of appointments\n",
    "nc.groupby('sub_icb_location_name')[['count_of_appointments']].sum().sort_values('count_of_appointments', ascending=False)\\\n",
    ".round(1)"
   ]
  },
  {
   "cell_type": "markdown",
   "id": "a11c91f8",
   "metadata": {},
   "source": [
    "# Number of context_type"
   ]
  },
  {
   "cell_type": "code",
   "execution_count": null,
   "id": "f6790e40",
   "metadata": {},
   "outputs": [],
   "source": [
    "# Determine the number of context types.\n",
    "context_types_num = nc['context_type'].nunique()\n",
    "\n",
    "print(\"Number of unique\", context_types_num)"
   ]
  },
  {
   "cell_type": "code",
   "execution_count": null,
   "id": "ab773598",
   "metadata": {
    "scrolled": true
   },
   "outputs": [],
   "source": [
    "nc.groupby('context_type')[['count_of_appointments']].count().sort_values('count_of_appointments', ascending=False).round(1)"
   ]
  },
  {
   "cell_type": "code",
   "execution_count": null,
   "id": "3d1a4bde",
   "metadata": {},
   "outputs": [],
   "source": [
    "nc.groupby('context_type')[['count_of_appointments']].count().sort_values('count_of_appointments', ascending=False).round(1)"
   ]
  },
  {
   "cell_type": "markdown",
   "id": "7e75e4cb",
   "metadata": {},
   "source": [
    "\n",
    "# Number of appointment_status"
   ]
  },
  {
   "cell_type": "code",
   "execution_count": null,
   "id": "a5633147",
   "metadata": {
    "scrolled": true
   },
   "outputs": [],
   "source": [
    "# Determine the number of appointment statuses.\n",
    "appointment_status_num = ar['appointment_status'].nunique()\n",
    "\n",
    "print(\"Number of unique\", appointment_status_num)"
   ]
  },
  {
   "cell_type": "code",
   "execution_count": null,
   "id": "3c450a5c",
   "metadata": {},
   "outputs": [],
   "source": [
    "ar.groupby('appointment_status')[['count_of_appointments']].sum()\\\n",
    ".sort_values('count_of_appointments', ascending=False).round(1)"
   ]
  },
  {
   "cell_type": "markdown",
   "id": "4490f9e6",
   "metadata": {},
   "source": [
    "# Number of national_category"
   ]
  },
  {
   "cell_type": "code",
   "execution_count": null,
   "id": "c4b60ce5",
   "metadata": {},
   "outputs": [],
   "source": [
    "# Determine the number of national categories.\n",
    "national_category_num = nc['national_category'].nunique()\n",
    "\n",
    "print(\"Number of unique\", national_category_num)"
   ]
  },
  {
   "cell_type": "code",
   "execution_count": null,
   "id": "a36216ef",
   "metadata": {
    "scrolled": true
   },
   "outputs": [],
   "source": [
    "nc.groupby('national_category')[['count_of_appointments']].sum()\\\n",
    ".sort_values('count_of_appointments', ascending=False).round(1)"
   ]
  },
  {
   "cell_type": "markdown",
   "id": "abc456ac",
   "metadata": {},
   "source": [
    "# Number of service_settings"
   ]
  },
  {
   "cell_type": "code",
   "execution_count": null,
   "id": "ec510f31",
   "metadata": {},
   "outputs": [],
   "source": [
    "# Determine the number of service_settings.\n",
    "service_setting_num = nc['service_setting'].nunique()\n",
    "\n",
    "print(\"Number of unique\", service_setting_num)"
   ]
  },
  {
   "cell_type": "code",
   "execution_count": null,
   "id": "860f9ef1",
   "metadata": {},
   "outputs": [],
   "source": [
    "nc.groupby('service_setting')[['count_of_appointments']].sum().\\\n",
    "sort_values('count_of_appointments', ascending=False).round(1)"
   ]
  },
  {
   "cell_type": "markdown",
   "id": "81f71959",
   "metadata": {},
   "source": [
    "# Business Questions"
   ]
  },
  {
   "cell_type": "markdown",
   "id": "51e5fbea",
   "metadata": {},
   "source": [
    "**After exploring and visualizing the database's structures, I dig into how to answer each of the core questions using the data available.**"
   ]
  },
  {
   "cell_type": "markdown",
   "id": "ff043143",
   "metadata": {},
   "source": [
    "# 1)\tUtilisation Trends\n",
    "a)\tWhat is the number of appointments and records per month?\\\n",
    "i)\tIs there any seasonality?\\\n",
    "b)\tWhat is the avg time by appointment type?\\\n",
    "i)\twhich type of appointments require more time?\\\n",
    "c)\twhich service shows the most appointments?\\\n",
    "d)\tWhich locations show the highest/lowest number of appointments? \\\n",
    "\n",
    "# 2)\tHas there been adequate staff and capacity in the networks?\n",
    "a)\tNumber of locations, service settings, context types, national categories, and appointment statuses in the data.\\\n",
    "i)\tWhich service settings show the highest number of appointments?\\\n",
    "b)\tWas there adequate staff and capacity in the networks?\\\n",
    "c)\tWhat do the top 10 retweeted\\favortied tweets say about the NHS? Is anything specific about the capacity?\n",
    "# 3)\tWhat are the main reasons for missed appointments?\n",
    "a)\tWhich healthcare professional types records the highest/lowest number of missed appointments? \n",
    "b)\tDoes the time between the booking and the appointment influence the missed appointment? \n",
    "i)\tHypothesis: Shorter booking-to-appointment time means fewer cancellations as people are more predictable in the short-term\\\n",
    "c)\tHow does the appointment mode influence the cancellations? \n",
    "i) Hypothesis: People tend to cancel more face-to-face or virtual/phone appointments.\n"
   ]
  },
  {
   "cell_type": "markdown",
   "id": "7c3429c3",
   "metadata": {},
   "source": [
    "# "
   ]
  },
  {
   "cell_type": "markdown",
   "id": "edf661d9",
   "metadata": {},
   "source": [
    "## 3) Assignment activity 3\n",
    "Continue your exploratory data analysis by answering the specific questions posed by the NHS as well as additional trends identified during data exploration. You can start by looking at the date range and the change in behaviour over time for the available data sources."
   ]
  },
  {
   "cell_type": "markdown",
   "id": "be5393dd",
   "metadata": {},
   "source": [
    "### Continue to explore the data and search for answers to more specific questions posed by the NHS."
   ]
  },
  {
   "cell_type": "markdown",
   "id": "a742e563",
   "metadata": {},
   "source": [
    "## Question 1:Between what dates were appointments scheduled? "
   ]
  },
  {
   "cell_type": "markdown",
   "id": "a32c61ff",
   "metadata": {},
   "source": [
    "# nc dataset: \n",
    "**2021-01-08 to 2022-12-06**\n",
    "# ar dataset\n",
    "**2020-01 to 2022-06**"
   ]
  },
  {
   "cell_type": "code",
   "execution_count": null,
   "id": "40354fa2",
   "metadata": {
    "scrolled": false
   },
   "outputs": [],
   "source": [
    "#checking if appointment_date is in DATETIMEFORMAT\n",
    "column_types = nc.dtypes\n",
    "column_types\n",
    "#appointment date is not ready a datetime variable"
   ]
  },
  {
   "cell_type": "code",
   "execution_count": null,
   "id": "1f4da023",
   "metadata": {},
   "outputs": [],
   "source": [
    "# Determine the minimum and maximum dates in the nc DataFrame.\n",
    "# Use appropriate docstrings.\n",
    "min_dat2 = nc['appointment_date'].min()\n",
    "max_dat2 = nc['appointment_date'].max()\n",
    "print (\"The minimum date in the 'nc' dataframe is %s and the maximum is %s\"%(min_dat2, max_dat2))\n"
   ]
  },
  {
   "cell_type": "code",
   "execution_count": null,
   "id": "098acafc",
   "metadata": {},
   "outputs": [],
   "source": [
    "#Change appointment_month type\n",
    "ar['appointment_month'] = pd.to_datetime(ar['appointment_month']).dt.to_period('M')\n",
    "ar.head()"
   ]
  },
  {
   "cell_type": "code",
   "execution_count": null,
   "id": "c9bcb543",
   "metadata": {
    "scrolled": false
   },
   "outputs": [],
   "source": [
    "# Print the min and max dates.\n",
    "min_date_ar = ar['appointment_month'].min()\n",
    "max_date_ar = ar['appointment_month'].max()\n",
    "print(min_date_ar,\"to\",max_date_ar)"
   ]
  },
  {
   "cell_type": "markdown",
   "id": "f41ad664",
   "metadata": {},
   "source": [
    "#  Question 2: Which service setting was the most popular for NHS North West London from 1 January to 1 June 2022?"
   ]
  },
  {
   "cell_type": "markdown",
   "id": "96acb60b",
   "metadata": {},
   "source": [
    "General Practice\t3653716,\\\n",
    "Unmapped\t299883,\\\n",
    "Other\t116551,\\\n",
    "Primary Care Network\t83244,\\\n",
    "Extended Access Provision\t74399"
   ]
  },
  {
   "cell_type": "code",
   "execution_count": null,
   "id": "acc6e7a9",
   "metadata": {},
   "outputs": [],
   "source": [
    "#Convert 'appointment_date' to datetime again\n",
    "nc['appointment_date'] = pd.to_datetime(nc['appointment_date'])\n",
    "\n",
    "# Filter for the date range and location\n",
    "start_date = pd.to_datetime('2022-01-01')\n",
    "end_date = pd.to_datetime('2022-06-01')\n",
    "\n",
    "filtered_nc = nc[\n",
    "    (nc['appointment_date'] > start_date) & \n",
    "    (nc['appointment_date'] < end_date) &\n",
    "    (nc['sub_icb_location_name'] == 'NHS North West London ICB - W2U3Z')\n",
    "]\n",
    "\n",
    "# Print or use the filtered_nc DataFrame\n",
    "filtered_nc.head(5)\n"
   ]
  },
  {
   "cell_type": "markdown",
   "id": "f4789a97",
   "metadata": {},
   "source": [
    "# Which service setting was the most popular?"
   ]
  },
  {
   "cell_type": "markdown",
   "id": "06be24f5",
   "metadata": {},
   "source": [
    "General Practice\t3653716\n",
    "Unmapped\t299883\n",
    "Other\t116551\n",
    "Primary Care Network\t83244\n",
    "Extended Access Provision\t74399"
   ]
  },
  {
   "cell_type": "code",
   "execution_count": null,
   "id": "8df90a91",
   "metadata": {
    "scrolled": false
   },
   "outputs": [],
   "source": [
    "filtered_nc.groupby('service_setting')[['count_of_appointments']].sum().sort_values('count_of_appointments', ascending=False).round(1)"
   ]
  },
  {
   "cell_type": "markdown",
   "id": "7ac94132",
   "metadata": {},
   "source": [
    "## **Question 3:** Which month had the highest number of appointments?"
   ]
  },
  {
   "cell_type": "code",
   "execution_count": null,
   "id": "44a0f3d6",
   "metadata": {},
   "outputs": [],
   "source": [
    "#Convert appointment_date to datetime\n",
    "nc['appointment_date'] = pd.to_datetime(nc['appointment_date'], format='%d/%m/%y')\n",
    "\n",
    "# Create new columns for month and year\n",
    "nc['month'] = nc['appointment_date'].dt.month\n",
    "nc['year'] = nc['appointment_date'].dt.year\n",
    "\n",
    "# Create a new column 'month_year' with 'MM/YY' format\n",
    "nc['month_year'] = nc['appointment_date'].dt.strftime('%m/%y')\n",
    "nc.head()\n"
   ]
  },
  {
   "cell_type": "code",
   "execution_count": null,
   "id": "d558cdb1",
   "metadata": {},
   "outputs": [],
   "source": [
    "nc.groupby('month_year')[['count_of_appointments']].sum().sort_values('count_of_appointments', ascending=False).round(1)"
   ]
  },
  {
   "cell_type": "markdown",
   "id": "55dfde41",
   "metadata": {},
   "source": [
    "# Question 4:** What was the total number of records per month?"
   ]
  },
  {
   "cell_type": "code",
   "execution_count": null,
   "id": "00668a95",
   "metadata": {},
   "outputs": [],
   "source": [
    "# Total number of records per month.\n",
    "nc.groupby('month')[['count_of_appointments']].count().sort_values('month', ascending=True).round(1)"
   ]
  },
  {
   "cell_type": "markdown",
   "id": "7aba0dca",
   "metadata": {},
   "source": [
    "# "
   ]
  },
  {
   "cell_type": "markdown",
   "id": "3a2caa91",
   "metadata": {},
   "source": [
    "## 4) Assignment activity 4\n",
    "Use visual techniques to explore and communicate patterns in the data. Note that you will likely revisit this section when preparing the final visualisations to be used in your technical report and business presentation. Make sure to document your thoughts and observations as they relate to various potential stakeholders.\n",
    "\n",
    "The seasons are summer (June to August 2021), autumn (September to November 2021), winter (December to February 2022), and spring (March to May 2022)."
   ]
  },
  {
   "cell_type": "markdown",
   "id": "946a2948",
   "metadata": {},
   "source": [
    "### Create visualisations and identify possible monthly and seasonal trends in the data."
   ]
  },
  {
   "cell_type": "code",
   "execution_count": null,
   "id": "c833e1ab",
   "metadata": {},
   "outputs": [],
   "source": [
    "# Import the necessary libraries.\n",
    "import seaborn as sns\n",
    "import matplotlib.pyplot as plt\n",
    "\n",
    "# Set figure size.\n",
    "sns.set(rc={'figure.figsize':(15, 8)})\n",
    "\n",
    "# Set the plot style as white.\n",
    "sns.set_style('white')"
   ]
  },
  {
   "cell_type": "markdown",
   "id": "9bb9d65d",
   "metadata": {},
   "source": [
    "# 3 visualisations with the number of monthly appointments by: service settings, context types, and national categories"
   ]
  },
  {
   "cell_type": "code",
   "execution_count": null,
   "id": "e9c336e1",
   "metadata": {},
   "outputs": [],
   "source": [
    "nc.info()"
   ]
  },
  {
   "cell_type": "code",
   "execution_count": null,
   "id": "699bfa7d",
   "metadata": {},
   "outputs": [],
   "source": [
    "# Convert the month_year to string data type for ease of visualisation.\n",
    "nc['appointment_month'] = nc['appointment_month'].values.astype('str')"
   ]
  },
  {
   "cell_type": "code",
   "execution_count": null,
   "id": "63160f27",
   "metadata": {},
   "outputs": [],
   "source": [
    "# Aggregate on a monthly level and determine the sum of records per month.\n",
    "plt.title(\"Number of monthly appointments\")\n",
    "\n",
    "sns.lineplot(x='appointment_month', y='count_of_appointments', data=nc, ci=None)"
   ]
  },
  {
   "cell_type": "markdown",
   "id": "0b9cc116",
   "metadata": {},
   "source": [
    "# Service settings:"
   ]
  },
  {
   "cell_type": "code",
   "execution_count": null,
   "id": "485b51c6",
   "metadata": {},
   "outputs": [],
   "source": [
    "# Plot the appointments over the available date range, and review the service settings for months.\n",
    "# Create a lineplot.\n",
    "plt.title(\"Number of monthly appointments by Service Setting\")\n",
    "sns.lineplot(x='appointment_month', y='count_of_appointments', hue='service_setting', data=nc, ci=None)\n"
   ]
  },
  {
   "cell_type": "markdown",
   "id": "c0007642",
   "metadata": {},
   "source": [
    "# Context types"
   ]
  },
  {
   "cell_type": "code",
   "execution_count": null,
   "id": "1f23e5f8",
   "metadata": {},
   "outputs": [],
   "source": [
    "plt.title(\"Number of monthly appointments by Context Tupe\")\n",
    "\n",
    "sns.lineplot(x='appointment_month', y='count_of_appointments', hue='context_type', data=nc,ci=None)\n"
   ]
  },
  {
   "cell_type": "markdown",
   "id": "e7d64afe",
   "metadata": {},
   "source": [
    "# National categories:"
   ]
  },
  {
   "cell_type": "code",
   "execution_count": null,
   "id": "3b22addb",
   "metadata": {},
   "outputs": [],
   "source": [
    "plt.figure(figsize=(15, 8))\n",
    "plt.title(\"Number of monthly appointments by National Category\")\n",
    "sns.lineplot(x='appointment_month', y='count_of_appointments', hue='national_category', data=nc, ci= None)"
   ]
  },
  {
   "cell_type": "markdown",
   "id": "7525fc6c",
   "metadata": {},
   "source": [
    "# Filtering only Top 5 National Categories"
   ]
  },
  {
   "cell_type": "code",
   "execution_count": null,
   "id": "e81af699",
   "metadata": {},
   "outputs": [],
   "source": [
    "# Filter for top 5 national categories\n",
    "top_categories = ['General Consultation Routine', 'General Consultation Acute', 'Clinical Triage', 'Planned Clinics', 'Inconsistent Mapping']\n",
    "nc_filtered_top5national_category = nc[nc['national_category'].isin(top_categories)]\n",
    "\n",
    "# Verify filtered data\n",
    "nc_filtered_top5national_category.head()"
   ]
  },
  {
   "cell_type": "code",
   "execution_count": null,
   "id": "96bff8d0",
   "metadata": {},
   "outputs": [],
   "source": [
    "plt.title(\"Number of monthly appointments across Top 5 National Categories\")\n",
    "\n",
    "# Place legend outside the chart\n",
    "sns.lineplot(x='appointment_month', y='count_of_appointments', \\\n",
    "             hue='national_category', ci=None, data=nc_filtered_top5national_category)\n",
    "# Place legend outside the chart\n",
    "plt.legend(loc='upper left', bbox_to_anchor=(1, 1))\n"
   ]
  },
  {
   "cell_type": "markdown",
   "id": "8f185ca1",
   "metadata": {},
   "source": [
    "# Objective 2 : Create four visualisations indicating the number of appointments for service setting per season."
   ]
  },
  {
   "cell_type": "markdown",
   "id": "9f2e1169",
   "metadata": {},
   "source": [
    "# #  1) created a column for seasons"
   ]
  },
  {
   "cell_type": "code",
   "execution_count": null,
   "id": "fc489147",
   "metadata": {},
   "outputs": [],
   "source": [
    "nc.dtypes"
   ]
  },
  {
   "cell_type": "code",
   "execution_count": null,
   "id": "995e6fb7",
   "metadata": {},
   "outputs": [],
   "source": [
    "nc['month'] = nc['appointment_date'].dt.month\n",
    "nc.head()"
   ]
  },
  {
   "cell_type": "code",
   "execution_count": null,
   "id": "9a3586e8",
   "metadata": {
    "scrolled": true
   },
   "outputs": [],
   "source": [
    "# Define conditions and corresponding values\n",
    "conditions = [\n",
    "    (nc['month'].isin([12,1,2])),  # Winter\n",
    "    (nc['month'].isin([3,4,5])),  # Spring\n",
    "    (nc['month'].isin([6,7,8])),  # Summer\n",
    "    (nc['month'].isin([9,10,11]))  # Autumn\n",
    "]\n",
    "values = ['Winter', 'Spring', 'Summer', 'Autumn']\n",
    "\n",
    "# Create a new 'season' column based on conditions\n",
    "nc['season'] = np.select(conditions, values, default='Unknown')\n",
    "\n",
    "nc.groupby(['season','month','month_year']).sum('count_of_appointments')\n",
    "\n"
   ]
  },
  {
   "cell_type": "code",
   "execution_count": null,
   "id": "79bbeaf5",
   "metadata": {
    "scrolled": true
   },
   "outputs": [],
   "source": [
    "# Plotting\n",
    "plt.figure(figsize=(15, 5))\n",
    "ax = sns.barplot(x='appointment_month', y='count_of_appointments', data=nc, hue='season', estimator=sum)\n",
    "\n",
    "plt.title(\"Appointments by Season\")\n",
    "plt.tight_layout()\n",
    "\n",
    "plt.show()"
   ]
  },
  {
   "cell_type": "code",
   "execution_count": null,
   "id": "a4c5fbf6",
   "metadata": {},
   "outputs": [],
   "source": [
    "\n",
    "plt.title(\"Evolution of Seasonal Appointments by Year\") \n",
    "sns.barplot(x='season', y='count_of_appointments', hue='year', data=nc, estimator = sum)\n",
    "# Adding data labels\n",
    "for p in ax.patches:\n",
    "    ax.annotate(format(p.get_height(), '.0f'),\n",
    "                (p.get_x() + p.get_width() / 2., p.get_height()),\n",
    "                ha='center', va='center', xytext=(0, 10),\n",
    "                textcoords='offset points', fontsize=10, color='black')\n",
    "\n",
    "plt.tight_layout()  \n",
    "plt.show()"
   ]
  },
  {
   "cell_type": "markdown",
   "id": "5d356e45",
   "metadata": {},
   "source": [
    "# Autumn"
   ]
  },
  {
   "cell_type": "code",
   "execution_count": null,
   "id": "fedd3cb6",
   "metadata": {},
   "outputs": [],
   "source": [
    "# create a subset of NC \n",
    "nc_autumn = nc.loc[nc['season']\n",
    "                   == 'Autumn']\n",
    "# View the output\n",
    "nc_autumn.head()"
   ]
  },
  {
   "cell_type": "code",
   "execution_count": null,
   "id": "e63c0859",
   "metadata": {},
   "outputs": [],
   "source": [
    "nc_autumn.shape"
   ]
  },
  {
   "cell_type": "code",
   "execution_count": null,
   "id": "1519fa32-9d87-44b4-b90d-2278845a77f1",
   "metadata": {
    "scrolled": true
   },
   "outputs": [],
   "source": [
    "# Visualise the subset using a lineplot.\n",
    "sns.lineplot(x='appointment_month', y='count_of_appointments', hue='context_type', data=nc_autumn)\n"
   ]
  },
  {
   "cell_type": "markdown",
   "id": "adf4194a",
   "metadata": {},
   "source": [
    "# Winter"
   ]
  },
  {
   "cell_type": "code",
   "execution_count": null,
   "id": "ffca2ed1",
   "metadata": {},
   "outputs": [],
   "source": [
    "# Create a separate data set that can be used in future weeks. \n",
    "nc_winter = nc.loc[nc['season']\n",
    "                   == 'Winter']\n",
    "# View the output.\n",
    "nc_winter.shape\n",
    "nc_winter.head()\n"
   ]
  },
  {
   "cell_type": "code",
   "execution_count": null,
   "id": "f1c3a9d8-9bd4-4c9c-b1f5-b3a1bd8e0dab",
   "metadata": {},
   "outputs": [],
   "source": [
    "# Visualise the subset using a lineplot.\n",
    "sns.lineplot(x='appointment_month', y='count_of_appointments', hue='service_setting', data=nc_winter)\n"
   ]
  },
  {
   "cell_type": "markdown",
   "id": "fd411d37",
   "metadata": {},
   "source": [
    "# Spring"
   ]
  },
  {
   "cell_type": "code",
   "execution_count": null,
   "id": "74f43b1d",
   "metadata": {},
   "outputs": [],
   "source": [
    "# Create a separate data set that can be used in future weeks. \n",
    "nc_spring = nc.loc[nc['season']\n",
    "                   == 'Spring']\n",
    "# View the output.\n",
    "nc_spring.shape\n",
    "nc_spring.head()\n"
   ]
  },
  {
   "cell_type": "code",
   "execution_count": null,
   "id": "68a1479d-9126-4fb3-967d-434e88fa959b",
   "metadata": {},
   "outputs": [],
   "source": [
    "# Visualise the subset using a lineplot.\n",
    "sns.lineplot(x='appointment_month', y='count_of_appointments', hue='service_setting', data=nc_spring)\n"
   ]
  },
  {
   "cell_type": "markdown",
   "id": "4cd2f039",
   "metadata": {},
   "source": [
    "# Summer"
   ]
  },
  {
   "cell_type": "code",
   "execution_count": null,
   "id": "91c43027",
   "metadata": {
    "scrolled": true
   },
   "outputs": [],
   "source": [
    "# Create a separate data set that can be used in future weeks. \n",
    "nc_summer = nc.loc[nc['season']\n",
    "                   == 'Summer']\n",
    "# View the output.\n",
    "nc_summer.shape\n",
    "nc_summer.head()\n"
   ]
  },
  {
   "cell_type": "code",
   "execution_count": null,
   "id": "44789be6",
   "metadata": {},
   "outputs": [],
   "source": [
    "# Visualise the subset using a lineplot.\n",
    "sns.lineplot(x='appointment_month', y='count_of_appointments', hue='service_setting', data=nc_summer)"
   ]
  },
  {
   "cell_type": "markdown",
   "id": "d3513fd2",
   "metadata": {},
   "source": [
    "## 5) Assignment activity 5"
   ]
  },
  {
   "cell_type": "markdown",
   "id": "347b2229",
   "metadata": {},
   "source": [
    "# Analyse tweets from Twitter with hashtags related to healthcare in the UK."
   ]
  },
  {
   "cell_type": "code",
   "execution_count": null,
   "id": "06bc19bb",
   "metadata": {},
   "outputs": [],
   "source": [
    "# Set the figure size.\n",
    "sns.set(rc={'figure.figsize':(15, 8)})\n",
    "\n",
    "# Set the plot style as white.\n",
    "sns.set_style('white')\n",
    "\n",
    "# Maximum column width to display.\n",
    "pd.options.display.max_colwidth = 200"
   ]
  },
  {
   "cell_type": "code",
   "execution_count": null,
   "id": "1328327b",
   "metadata": {},
   "outputs": [],
   "source": [
    "pip install wordcloud"
   ]
  },
  {
   "cell_type": "code",
   "execution_count": null,
   "id": "3aefb8a3",
   "metadata": {},
   "outputs": [],
   "source": [
    "# Start with loading all necessary libraries\n",
    "from os import path\n",
    "from PIL import Image\n",
    "from wordcloud import WordCloud, STOPWORDS, ImageColorGenerator"
   ]
  },
  {
   "cell_type": "code",
   "execution_count": null,
   "id": "558dec8e",
   "metadata": {},
   "outputs": [],
   "source": [
    "# View the DataFrame.\n",
    "tweets.head(5)"
   ]
  },
  {
   "cell_type": "code",
   "execution_count": null,
   "id": "b9592370",
   "metadata": {
    "scrolled": true
   },
   "outputs": [],
   "source": [
    "# Explore the metadata and data set.\n",
    "tweets.info()"
   ]
  },
  {
   "cell_type": "code",
   "execution_count": null,
   "id": "83eab3ef",
   "metadata": {},
   "outputs": [],
   "source": [
    "tweets.shape"
   ]
  },
  {
   "cell_type": "markdown",
   "id": "f52b74c5",
   "metadata": {},
   "source": [
    "# Would it be useful to only look at retweeted and favourite tweet messages?\n",
    "# Explain your answer.\n",
    "When analysing data scraped from Twitter, it is useful to focus on retweeted and favourited tweets for several reasons:\n",
    "1. Engagement Metrics: These metrics indicate user engagement and show what content is popular or impactful.\n",
    "2. Influence: Retweeted and favourited tweets often come from influential users or contain influential content, providing insights into key players or influencers. They can also help evaluate marketing campaigns by indicating which messages are gaining traction.\n",
    "3. Filter Noise: Retweeted and favourited tweets filter out less relevant content, enabling more targeted analysis.\n",
    "4. User Sentiment: Retweeted and favourited tweets indicate positive sentiment, which can be useful in helping understand user preferences.\n"
   ]
  },
  {
   "cell_type": "code",
   "execution_count": null,
   "id": "7bc0d111",
   "metadata": {},
   "outputs": [],
   "source": [
    "# create a dataframe for full text tweets \n",
    "tweet_text=tweets['tweet_full_text']\n",
    "tweet_text"
   ]
  },
  {
   "cell_type": "code",
   "execution_count": null,
   "id": "ae4bdd9f",
   "metadata": {},
   "outputs": [],
   "source": [
    "tweets['tweet_entities_hashtags']"
   ]
  },
  {
   "cell_type": "code",
   "execution_count": null,
   "id": "bb667e2f",
   "metadata": {},
   "outputs": [],
   "source": [
    "# **Remove Duplicates**\n",
    "#remove Nan Values from tweets['tweet_full_text']\n",
    "tweets['tweet_full_text']=tweets['tweet_full_text'].fillna('')\n",
    "#remove Nan Values from tweets['tweet_entities_hashtags']\n",
    "tweets['tweet_entities_hashtags']=tweets['tweet_entities_hashtags'].fillna('')"
   ]
  },
  {
   "cell_type": "code",
   "execution_count": null,
   "id": "b1bc0cd4",
   "metadata": {},
   "outputs": [],
   "source": [
    "# Extracting hashtags from 'tweet_full_text' column\n",
    "hashtags = tweets['tweet_full_text'].str.lower().str.findall(r'#(\\w+)').explode()\n",
    "\n",
    "# Reset the index to avoid duplicate index issues\n",
    "hashtags = hashtags.reset_index(drop=True)\n",
    "\n",
    "# Create a new column 'hashtags_only' with the extracted hashtags\n",
    "tweets['hashtags_only'] = hashtags\n",
    "\n",
    "# Display the DataFrame with the new 'hashtags_only' column\n",
    "tweets.head()"
   ]
  },
  {
   "cell_type": "markdown",
   "id": "902752aa",
   "metadata": {},
   "source": [
    "# which are the most retweeted hashtags?"
   ]
  },
  {
   "cell_type": "code",
   "execution_count": null,
   "id": "c9bcd623",
   "metadata": {},
   "outputs": [],
   "source": [
    "# Group by 'hashtags_only', sum the 'tweet_retweet_count', and sort the values\n",
    "hashtags_retweet_sum = tweets.groupby('hashtags_only')['tweet_retweet_count'].sum().reset_index()\n",
    "\n",
    "# Sort the values in descending order\n",
    "hashtags_retweet_sum = hashtags_retweet_sum.sort_values('tweet_retweet_count', ascending=False)\n",
    "\n",
    "# Round the 'tweet_retweet_count' column to 1 decimal place\n",
    "hashtags_retweet_sum['tweet_retweet_count'] = hashtags_retweet_sum['tweet_retweet_count'].round(1)\n",
    "\n",
    "# Display the DataFrame with summed retweet counts for each hashtag\n",
    "hashtags_retweet_sum.head(15)\n",
    "\n",
    "top_10_hashtags_retweet_sum = hashtags_retweet_sum.head(10)\n",
    "top_10_hashtags_retweet_sum.head(10)"
   ]
  },
  {
   "cell_type": "markdown",
   "id": "e65eb740",
   "metadata": {},
   "source": [
    "# which are the most favorited hashtags?"
   ]
  },
  {
   "cell_type": "code",
   "execution_count": null,
   "id": "1ecc3d68",
   "metadata": {},
   "outputs": [],
   "source": [
    "# Group by 'hashtags_only', sum the 'tweet_favorite_count', and sort the values\n",
    "hashtags_favorite_sum_sorted = tweets.groupby('hashtags_only')['tweet_favorite_count'].sum().reset_index()\n",
    "\n",
    "# Sort the values in descending order\n",
    "hashtags_favorite_sum_sorted = hashtags_favorite_sum_sorted.sort_values('tweet_favorite_count', ascending=False)\n",
    "\n",
    "# Round the 'tweet_favorite_count' column to 1 decimal place\n",
    "hashtags_favorite_sum_sorted['tweet_favorite_count'] = hashtags_favorite_sum_sorted['tweet_favorite_count'].round(1)\n",
    "\n",
    "# Display the DataFrame with summed favorite counts for each hashtag, sorted in descending order\n",
    "hashtags_favorite_sum_sorted.head(10)\n"
   ]
  },
  {
   "cell_type": "markdown",
   "id": "6acf668d",
   "metadata": {},
   "source": [
    "# filter tweets with words capacity, busy or saturate"
   ]
  },
  {
   "cell_type": "code",
   "execution_count": null,
   "id": "e1994696",
   "metadata": {
    "scrolled": true
   },
   "outputs": [],
   "source": [
    "# Assuming 'tweets' is your DataFrame\n",
    "# Filter tweets that contain specified words\n",
    "tweets_filtered_capacity = tweets[\n",
    "    tweets['tweet_full_text'].str.contains(r'\\b(?:capacity|saturate|busy)\\b', case=False)\n",
    "]\n",
    "\n",
    "# Display the filtered DataFrame\n",
    "tweets_filtered_capacity.head()\n"
   ]
  },
  {
   "cell_type": "markdown",
   "id": "501fb2fe",
   "metadata": {},
   "source": [
    "# top retweeted tweets"
   ]
  },
  {
   "cell_type": "code",
   "execution_count": null,
   "id": "f0612142",
   "metadata": {},
   "outputs": [],
   "source": [
    "top_retweeted_tweets = tweets.sort_values('tweet_retweet_count', ascending=False)\n",
    "\n",
    "top_retweeted_tweets.head(10)"
   ]
  },
  {
   "cell_type": "markdown",
   "id": "b71472dc",
   "metadata": {},
   "source": [
    "# hastags of the top retweeted tweets"
   ]
  },
  {
   "cell_type": "code",
   "execution_count": null,
   "id": "d3ec1d04",
   "metadata": {},
   "outputs": [],
   "source": [
    "hashtags_of_top_10_RT = top_retweeted_tweets['hashtags_only']\n",
    "hashtags_of_top_10_RT.head()"
   ]
  },
  {
   "cell_type": "code",
   "execution_count": null,
   "id": "7174f163",
   "metadata": {
    "scrolled": true
   },
   "outputs": [],
   "source": [
    "top_10_hashtags_retweet_sum.columns"
   ]
  },
  {
   "cell_type": "markdown",
   "id": "f7d43ed0",
   "metadata": {},
   "source": [
    " "
   ]
  },
  {
   "cell_type": "code",
   "execution_count": null,
   "id": "f2adfef7",
   "metadata": {
    "scrolled": true
   },
   "outputs": [],
   "source": [
    "# Create a bar plot\n",
    "plt.figure(figsize=(15, 3))\n",
    "sns.barplot(x='hashtags_only', y='tweet_retweet_count', data=top_10_hashtags_retweet_sum, estimator = sum)"
   ]
  },
  {
   "cell_type": "markdown",
   "id": "1ac390db",
   "metadata": {},
   "source": [
    "# top 10 favorited tweets"
   ]
  },
  {
   "cell_type": "code",
   "execution_count": null,
   "id": "26e2b7e2",
   "metadata": {},
   "outputs": [],
   "source": [
    "top_favortited_tweets = tweets.sort_values('tweet_favorited', ascending=False)\n",
    "\n",
    "top_favortited_tweets.head(10)"
   ]
  },
  {
   "cell_type": "markdown",
   "id": "303f066f",
   "metadata": {},
   "source": [
    "# hastags of the top 10 favorited tweets"
   ]
  },
  {
   "cell_type": "code",
   "execution_count": null,
   "id": "dc5398c7",
   "metadata": {},
   "outputs": [],
   "source": [
    "hashtags_of_top_10_fav_tweets = top_favortited_tweets['hashtags_only']\n",
    "hashtags_of_top_10_fav_tweets.head()"
   ]
  },
  {
   "cell_type": "markdown",
   "id": "49e69aa9",
   "metadata": {},
   "source": [
    "# barplot for top 10 favorited hashtags"
   ]
  },
  {
   "cell_type": "code",
   "execution_count": null,
   "id": "9a5e5432",
   "metadata": {},
   "outputs": [],
   "source": [
    "top_10_hashtags_favorited = hashtags_favorite_sum_sorted.head(10)\n",
    "top_10_hashtags_favorited.columns"
   ]
  },
  {
   "cell_type": "code",
   "execution_count": null,
   "id": "77ff8179",
   "metadata": {},
   "outputs": [],
   "source": [
    "# Create a bar plot\n",
    "plt.figure(figsize=(15, 6))\n",
    "sns.barplot(x='hashtags_only', y='tweet_favorite_count', data=top_10_hashtags_favorited, estimator = sum)"
   ]
  },
  {
   "cell_type": "markdown",
   "id": "e5bcf093",
   "metadata": {},
   "source": [
    "## USING WORDCLOUD TO EXPLORE HASHTAG AND TWITTER TEXTS"
   ]
  },
  {
   "cell_type": "markdown",
   "id": "0f2dec2e",
   "metadata": {},
   "source": [
    "# working on the hashtags"
   ]
  },
  {
   "cell_type": "code",
   "execution_count": null,
   "id": "b652160f",
   "metadata": {},
   "outputs": [],
   "source": [
    "# Group by 'hashtags_only', sum the 'tweet_retweet_count', and sort the values\n",
    "hashtags_retweet_sum = tweets.groupby('hashtags_only')['tweet_retweet_count'].sum().reset_index()\n",
    "\n",
    "# Sort the values in descending order\n",
    "hashtags_retweet_sum = hashtags_retweet_sum.sort_values('tweet_retweet_count', ascending=False)\n",
    "\n",
    "# Round the 'tweet_retweet_count' column to 1 decimal place\n",
    "hashtags_retweet_sum['tweet_retweet_count'] = hashtags_retweet_sum['tweet_retweet_count'].round(1)\n",
    "\n",
    "# Display the DataFrame with summed retweet counts for each hashtag\n",
    "hashtags_retweet_sum.head(15)"
   ]
  },
  {
   "cell_type": "markdown",
   "id": "f405b0da",
   "metadata": {},
   "source": [
    "# wordcloud for the hashtags"
   ]
  },
  {
   "cell_type": "code",
   "execution_count": null,
   "id": "3f18d09b",
   "metadata": {},
   "outputs": [],
   "source": [
    "# Drop duplicates\n",
    "hashtags_unique = hashtags.drop_duplicates()\n",
    "\n",
    "# Display the first 10 unique hashtags\n",
    "hashtags_unique.head(10)"
   ]
  },
  {
   "cell_type": "code",
   "execution_count": null,
   "id": "f9bd360a",
   "metadata": {},
   "outputs": [],
   "source": [
    "# WORLDCLOUD FOR NHS HASHTAGS"
   ]
  },
  {
   "cell_type": "code",
   "execution_count": null,
   "id": "2c0b907d",
   "metadata": {
    "scrolled": true
   },
   "outputs": [],
   "source": [
    "# Convert the Series to a single string\n",
    "text = ' '.join(hashtags_unique.astype(str))\n",
    "\n",
    "# Create and generate a word cloud image\n",
    "wordcloud = WordCloud().generate(text)\n",
    "\n",
    "# Display the generated image\n",
    "plt.imshow(wordcloud, interpolation='bilinear')\n",
    "plt.axis(\"off\")\n",
    "plt.show()\n"
   ]
  },
  {
   "cell_type": "markdown",
   "id": "5c5b66fa",
   "metadata": {},
   "source": [
    "# wordcloud for the tweet_full_text"
   ]
  },
  {
   "cell_type": "code",
   "execution_count": null,
   "id": "55f65111",
   "metadata": {},
   "outputs": [],
   "source": [
    "# Drop duplicates\n",
    "tweet_full_text_unique = tweets['tweet_full_text'].drop_duplicates()\n",
    "\n",
    "# Display the first 10 unique hashtags\n",
    "tweet_full_text_unique.head(10)"
   ]
  },
  {
   "cell_type": "code",
   "execution_count": null,
   "id": "a6887424",
   "metadata": {
    "scrolled": true
   },
   "outputs": [],
   "source": [
    "# Convert the Series to a single string\n",
    "text2 = ' '.join(tweet_full_text_unique.astype(str))\n",
    "\n",
    "#remore https and RT\n",
    "text2 = text2.replace('RT', '').replace('https','').replace('co','').replace('amp','')\n",
    "\n",
    "\n",
    "\n",
    "# Create and generate a word cloud image\n",
    "wordcloud = WordCloud().generate(text2)\n",
    "\n",
    "# Display the generated image\n",
    "plt.imshow(wordcloud, interpolation='bilinear')\n",
    "plt.axis(\"off\")\n",
    "plt.show()\n"
   ]
  },
  {
   "cell_type": "markdown",
   "id": "c04eb259",
   "metadata": {},
   "source": [
    "## 6) Assignment activity 6\n",
    "In the final module you will answer additional questions from the NHS as well as additional questions and observations you identified. Make sure to revisit previous sections that may provide useful insights to the questions posed in Module 6 where required."
   ]
  },
  {
   "cell_type": "markdown",
   "id": "9579ccd5",
   "metadata": {},
   "source": [
    "### Investigate the main concerns posed by the NHS. "
   ]
  },
  {
   "cell_type": "code",
   "execution_count": null,
   "id": "69781800",
   "metadata": {
    "scrolled": false
   },
   "outputs": [],
   "source": [
    "#view the ar dataframe\n",
    "ar.head()"
   ]
  },
  {
   "cell_type": "code",
   "execution_count": null,
   "id": "fe19d2dd",
   "metadata": {
    "scrolled": true
   },
   "outputs": [],
   "source": [
    "ar.dtypes"
   ]
  },
  {
   "cell_type": "code",
   "execution_count": null,
   "id": "cd838ca8",
   "metadata": {
    "scrolled": false
   },
   "outputs": [],
   "source": [
    "# Print the min and max dates.\n",
    "min_date_ar = ar['appointment_month'].min()\n",
    "max_date_ar = ar['appointment_month'].max()\n",
    "print(min_date_ar,\"to\",max_date_ar)"
   ]
  },
  {
   "cell_type": "code",
   "execution_count": null,
   "id": "86bef592",
   "metadata": {
    "scrolled": true
   },
   "outputs": [],
   "source": [
    "# Filter the data set to only look at data from 2021-08 onwards.\n",
    "# Filter rows tut_2.\n",
    "ar2 = ar.loc[ar['appointment_month']>='2021-08']\n",
    "ar2"
   ]
  },
  {
   "cell_type": "markdown",
   "id": "1ece12ed",
   "metadata": {},
   "source": [
    "# UTILISATION TRENDS"
   ]
  },
  {
   "cell_type": "markdown",
   "id": "2a50b465",
   "metadata": {},
   "source": [
    "### 3) Capacity: Should the NHS start looking at increasing staff levels? "
   ]
  },
  {
   "cell_type": "markdown",
   "id": "bc61df6f",
   "metadata": {},
   "source": [
    "# appointments per month"
   ]
  },
  {
   "cell_type": "code",
   "execution_count": null,
   "id": "334f97ee",
   "metadata": {
    "scrolled": false
   },
   "outputs": [],
   "source": [
    "#determine the number of appointments by month\n",
    "ar2.groupby('appointment_month')[['count_of_appointments']].sum().sort_values('count_of_appointments', ascending=False).round(1)"
   ]
  },
  {
   "cell_type": "code",
   "execution_count": null,
   "id": "d55c0532",
   "metadata": {
    "scrolled": true
   },
   "outputs": [],
   "source": [
    "# Determine the total number of appointments per month.\n",
    "ar3 = ar2[['appointment_month', 'count_of_appointments']].groupby(['appointment_month']).sum().sort_values('appointment_month').reset_index()\n",
    "\n",
    "# Add a new column to indicate the average utilisation of services.\n",
    "# Monthly aggregate / 30 to get to a daily value.\n",
    "ar3['utilisation'] = round(ar3['count_of_appointments'] / 30, 1)\n",
    "\n",
    "# View the DataFrame.\n",
    "ar3"
   ]
  },
  {
   "cell_type": "code",
   "execution_count": null,
   "id": "020d7a19",
   "metadata": {
    "scrolled": true
   },
   "outputs": [],
   "source": [
    "# Convert the appointment_month to string data type for ease of visualisation.\n",
    "ar3['appointment_month'] = ar3['appointment_month'].values.astype('str')\n",
    "ar3.dtypes"
   ]
  },
  {
   "cell_type": "markdown",
   "id": "85574490",
   "metadata": {},
   "source": [
    "# monthly appointments"
   ]
  },
  {
   "cell_type": "code",
   "execution_count": null,
   "id": "df7a622c",
   "metadata": {
    "scrolled": true
   },
   "outputs": [],
   "source": [
    "# Plot sum of count of monthly visits.\n",
    "\n",
    "fig, ax = plt.subplots()\n",
    "fig.set_size_inches(12, 3)\n",
    "sns.despine(left=True)\n",
    "plt.title(\"Number of monthly visits\")\n",
    "sns.lineplot(x='appointment_month', y='count_of_appointments', data=ar3)\n",
    "\n",
    "# Add data labels in millions\n",
    "for index, value in enumerate(ar3['count_of_appointments']):\n",
    "    plt.text(index, value, \"{:.1f}M\".format(value/1e6), ha='center')\n",
    "    \n",
    "# Rotate x-axis labels for better visibility\n",
    "plt.xticks(rotation=45)\n",
    "\n",
    "# Show legend\n",
    "plt.legend(loc='best')\n",
    "\n",
    "# Show the plot\n",
    "plt.show()"
   ]
  },
  {
   "cell_type": "markdown",
   "id": "b963d8ca",
   "metadata": {},
   "source": [
    "# daily utilisation\n",
    "# NHS Capacity = 1,200,000 appointments per day"
   ]
  },
  {
   "cell_type": "markdown",
   "id": "5eeccaff",
   "metadata": {},
   "source": [
    "**The NHS has provided a figure of an average of 1.2M appointments per day as a guideline for maximum capacity."
   ]
  },
  {
   "cell_type": "code",
   "execution_count": null,
   "id": "e47e13f4",
   "metadata": {
    "scrolled": true
   },
   "outputs": [],
   "source": [
    "#importing necessary library\n",
    "from matplotlib.ticker import FuncFormatter  # Import FuncFormatter for custom formatting\n",
    "\n",
    "# Plot capacity utilisation.\n",
    "\n",
    "# Seaborn - Bar Plot\n",
    "fig, ax = plt.subplots()\n",
    "fig.set_size_inches(10, 3)\n",
    "sns.despine(left=True)\n",
    "\n",
    "sns.barplot(x='appointment_month', y='utilisation', data=ar3, ci=None)\n",
    "\n",
    "plt.title('Daily Utilisation across Months')  # Adding title\n",
    "plt.xlabel('Month')  # Adding x-axis label\n",
    "plt.ylabel('Daily Utilisation')  # Adding y-axis label\n",
    "\n",
    "# Adding data labels to the bars, formatting as millions\n",
    "def millions_format(x, pos):\n",
    "    return f'{x/1e6:.1f}M'\n",
    "\n",
    "formatter = FuncFormatter(millions_format)\n",
    "plt.gca().yaxis.set_major_formatter(formatter)\n",
    "\n",
    "for index, value in enumerate(ar3['utilisation']):\n",
    "    plt.text(index, value + 0.02 * max(ar3['utilisation']), f'{value/1e6:.1f}M', ha='center')\n",
    "    \n",
    "plt.xticks(rotation=45)  \n",
    "plt.tight_layout()  \n",
    "plt.show()"
   ]
  },
  {
   "cell_type": "code",
   "execution_count": null,
   "id": "5217da0b",
   "metadata": {},
   "outputs": [],
   "source": [
    "#table with similar info\n",
    "ar3.groupby('appointment_month')[['utilisation']].sum().sort_values('utilisation', ascending=False).round(1)"
   ]
  },
  {
   "cell_type": "markdown",
   "id": "6156d26e",
   "metadata": {},
   "source": [
    "The NHS has provided a figure of an average of 1.2M daily appointments for maximum capacity.\n",
    "As you can see in the graph above, every month is within the NHS's maximum capacity: 1.2M daily appointments.\n",
    "It would be prudent to rotate staff so that peak months (Sep, Oct,Nov) have a larger staff, while less busy months (December) have a smaller staff. \n",
    "Concentrating the vacation period of NHS employees in December could be a good strategy, adding some benefits to whom take vacation during this period. However, watching out to maintain ideal capacity in December as well."
   ]
  },
  {
   "cell_type": "markdown",
   "id": "a6aa12fe",
   "metadata": {},
   "source": [
    "# Q2) How do the healthcare professional types differ over time?"
   ]
  },
  {
   "cell_type": "code",
   "execution_count": null,
   "id": "852a64ae",
   "metadata": {
    "scrolled": true
   },
   "outputs": [],
   "source": [
    "# New df for hcp_type\n",
    "ar_hcp = ar2 [['appointment_month', 'hcp_type', 'count_of_appointments']].\\\n",
    "groupby(['hcp_type', 'appointment_month']).sum().reset_index()\n",
    "ar_hcp"
   ]
  },
  {
   "cell_type": "code",
   "execution_count": null,
   "id": "122ecc7c",
   "metadata": {},
   "outputs": [],
   "source": [
    "# Convert the appointment_month to string data type for ease of visualisation.\n",
    "ar_hcp['appointment_month'] = ar_hcp['appointment_month'].values.astype('str')\n",
    "ar_hcp"
   ]
  },
  {
   "cell_type": "code",
   "execution_count": null,
   "id": "4179ad07",
   "metadata": {
    "scrolled": true
   },
   "outputs": [],
   "source": [
    "from matplotlib.ticker import FuncFormatter  # Import FuncFormatter for custom formatting\n",
    "\n",
    "# Plotting with Seaborn - Bar Plot\n",
    "fig, ax = plt.subplots()\n",
    "fig.set_size_inches(10,4)\n",
    "\n",
    "sns.barplot(x='appointment_month', y='count_of_appointments', hue='hcp_type', data=ar_hcp)\n",
    "\n",
    "plt.title(\"Appointments by Professional Type across Months\") \n",
    "plt.xlabel('Month-Year') \n",
    "plt.ylabel('Total Appointments Per Month')  \n",
    "plt.legend(title='Professional Type', bbox_to_anchor=(1.05, 1), loc='upper left', borderaxespad=0.)  # Adding legend\n",
    "\n",
    "# Adding data labels to the bars, formatted as millions\n",
    "def millions_format(x, pos):\n",
    "    return f'{x/1e6:.1f}M'\n",
    "\n",
    "formatter = FuncFormatter(millions_format)\n",
    "ax.yaxis.set_major_formatter(formatter)\n",
    "\n",
    "for p in ax.patches:\n",
    "    height = p.get_height()\n",
    "    ax.text(p.get_x() + p.get_width()/2., height + 0.02 * max(ar_hcp['count_of_appointments']),\n",
    "            f'{height/1e6:.1f}M', ha='center')\n",
    "\n",
    "# Set y-axis ticks to show in plain format \n",
    "ax.yaxis.set_major_formatter(plt.FuncFormatter(lambda x, loc: \"{:,.0f}\".format(x)))\n",
    "\n",
    "plt.xticks(rotation=45)  \n",
    "plt.tight_layout()  \n",
    "plt.show()\n"
   ]
  },
  {
   "cell_type": "markdown",
   "id": "761e00e5",
   "metadata": {},
   "source": [
    "# # 4) Are there significant changes in whether or not visits are attended?"
   ]
  },
  {
   "cell_type": "code",
   "execution_count": null,
   "id": "741ff463",
   "metadata": {},
   "outputs": [],
   "source": [
    "# New df for appointment_status\n",
    "ar_appointment_status = ar2 [['appointment_mode', 'appointment_status', 'count_of_appointments',\n",
    "                              'hcp_type','time_between_book_and_appointment',\n",
    "                              'appointment_month']].groupby(['appointment_mode','time_between_book_and_appointment',\n",
    "                                                             'hcp_type','appointment_status', 'appointment_month'\n",
    "                                                            ]).sum().reset_index()\n",
    "ar_appointment_status"
   ]
  },
  {
   "cell_type": "code",
   "execution_count": null,
   "id": "92dc0db4",
   "metadata": {},
   "outputs": [],
   "source": [
    "ar_appointment_status.dtypes"
   ]
  },
  {
   "cell_type": "code",
   "execution_count": null,
   "id": "33a3bdd4",
   "metadata": {},
   "outputs": [],
   "source": [
    "# Convert the appointment_month to string data type for ease of visualisation.\n",
    "ar_appointment_status['appointment_month'] = ar_appointment_status['appointment_month'].values.astype('str')\n",
    "ar_appointment_status.dtypes"
   ]
  },
  {
   "cell_type": "markdown",
   "id": "829d3766",
   "metadata": {},
   "source": [
    "# Creating a Lineplot  by Appointment_Status"
   ]
  },
  {
   "cell_type": "code",
   "execution_count": null,
   "id": "e04c1fea",
   "metadata": {
    "scrolled": true
   },
   "outputs": [],
   "source": [
    "import matplotlib.pyplot as plt\n",
    "import seaborn as sns\n",
    "\n",
    "# Remove rows with non-numeric values in 'count_of_appointments' column\n",
    "ar_appointment_status['count_of_appointments'] = pd.to_numeric(ar_appointment_status['count_of_appointments'], errors='coerce')\n",
    "ar_appointment_status = ar_appointment_status.dropna(subset=['count_of_appointments'])\n",
    "\n",
    "# Set the figure size\n",
    "fig, ax = plt.subplots(figsize=(10, 4))\n",
    "\n",
    "# Title for the plot\n",
    "plt.title(\"Number of Monthly Appointments by Appointment Status\")\n",
    "\n",
    "# Create the line plot\n",
    "sns.lineplot(x='appointment_month', y='count_of_appointments', hue='appointment_status', data=ar_appointment_status, ci=None, ax=ax)\n",
    "\n",
    "# Rotate x-axis labels for better visibility\n",
    "plt.xticks(rotation=45)\n",
    "\n",
    "# Show the plot\n",
    "plt.show()"
   ]
  },
  {
   "cell_type": "markdown",
   "id": "bb52c724",
   "metadata": {},
   "source": [
    "# creating a new df only with missed appointments.  \n",
    "**appointment_status = DNA**"
   ]
  },
  {
   "cell_type": "code",
   "execution_count": null,
   "id": "55c6536b",
   "metadata": {
    "scrolled": false
   },
   "outputs": [],
   "source": [
    "ar_DNA = ar_appointment_status[ar_appointment_status['appointment_status'] == 'DNA']\n",
    "ar_DNA"
   ]
  },
  {
   "cell_type": "code",
   "execution_count": null,
   "id": "629bbb7e",
   "metadata": {
    "scrolled": false
   },
   "outputs": [],
   "source": [
    "ar_DNA.dtypes"
   ]
  },
  {
   "cell_type": "code",
   "execution_count": null,
   "id": "3a3b8476",
   "metadata": {},
   "outputs": [],
   "source": [
    "ar_DNA['hcp_type'] = ar_DNA['hcp_type'].astype('category')\n",
    "ar_DNA['appointment_status'] = ar_DNA['appointment_status'].astype('category')\n",
    "ar_DNA['time_between_book_and_appointment'] = ar_DNA['time_between_book_and_appointment'].astype('category')\n",
    "ar_DNA['appointment_mode'] = ar_DNA['appointment_mode'].astype('category')\n",
    "ar_DNA['count_of_appointments'] = pd.to_numeric(ar_DNA['count_of_appointments'])"
   ]
  },
  {
   "cell_type": "code",
   "execution_count": null,
   "id": "9c3eda81",
   "metadata": {
    "scrolled": true
   },
   "outputs": [],
   "source": [
    "ar_DNA.dtypes"
   ]
  },
  {
   "cell_type": "markdown",
   "id": "bf763bf7",
   "metadata": {},
   "source": [
    "# Question 4: Are there changes in terms of appointment type and the busiest months?"
   ]
  },
  {
   "cell_type": "code",
   "execution_count": null,
   "id": "31930599",
   "metadata": {
    "scrolled": true
   },
   "outputs": [],
   "source": [
    "# New df for appointment_tyoe\n",
    "ar_mode = ar2 [['appointment_mode', 'count_of_appointments',\n",
    "                'appointment_month']].groupby(['appointment_mode','appointment_month']).sum().reset_index()\n",
    "ar_mode"
   ]
  },
  {
   "cell_type": "code",
   "execution_count": null,
   "id": "332c8530",
   "metadata": {
    "scrolled": false
   },
   "outputs": [],
   "source": [
    "ar_mode.dtypes"
   ]
  },
  {
   "cell_type": "code",
   "execution_count": null,
   "id": "e46f29c9",
   "metadata": {},
   "outputs": [],
   "source": [
    "# Convert the appointment_month to string data type for ease of visualisation.\n",
    "ar_mode['appointment_month'] = ar_mode['appointment_month'].values.astype('str')\n",
    "ar_mode.dtypes"
   ]
  },
  {
   "cell_type": "code",
   "execution_count": null,
   "id": "2d85963e",
   "metadata": {
    "scrolled": true
   },
   "outputs": [],
   "source": [
    "ar_mode['appointment_mode'] = ar_mode['appointment_mode'].astype('category')\n",
    "ar_mode['count_of_appointments'] = pd.to_numeric(ar_mode['count_of_appointments'])\n",
    "ar_mode.dtypes"
   ]
  },
  {
   "cell_type": "code",
   "execution_count": null,
   "id": "0e64c264",
   "metadata": {},
   "outputs": [],
   "source": [
    "# Create the plot\n",
    "fig, ax = plt.subplots()\n",
    "fig.set_size_inches(12, 8)\n",
    "plt.title(\"Monthly Sum of Appointments\")\n",
    "sns.lineplot(x='appointment_month', y='count_of_appointments', data=ar_mode,ci=None)\n",
    "plt.xlabel('Month of Appointment')\n",
    "plt.ylabel('Total Appointments Per Month (in 10 Millions)')\n",
    "plt.show;"
   ]
  },
  {
   "cell_type": "code",
   "execution_count": null,
   "id": "52566abf",
   "metadata": {},
   "outputs": [],
   "source": [
    "# Set the figure size\n",
    "fig, ax = plt.subplots(figsize=(10, 5))\n",
    "\n",
    "# Title for the plot\n",
    "plt.title(\"Number of Appointments by Mode Across Months\")\n",
    "\n",
    "# Create the line plot\n",
    "sns.lineplot(x='appointment_month', y='count_of_appointments', hue='appointment_mode', data=ar_mode, ci=None)\n",
    "\n",
    "# Place legend outside the chart\n",
    "plt.legend(loc='upper left', bbox_to_anchor=(1, 1))\n",
    "# Show the plot\n",
    "plt.show()\n"
   ]
  },
  {
   "cell_type": "code",
   "execution_count": null,
   "id": "94445c51",
   "metadata": {
    "scrolled": false
   },
   "outputs": [],
   "source": [
    "# Group by 'appointment_month' and 'hcp_type', calculate sum\n",
    "ar_mode = ar_appointment_status.groupby(['appointment_month', 'appointment_mode'])['count_of_appointments'].sum().reset_index()\n",
    "\n",
    "# Calculate total appointments for each 'appointment_month'\n",
    "total_apps_per_month = ar_mode.groupby('appointment_month')['count_of_appointments'].transform('sum')\n",
    "\n",
    "# Calculate proportions (%) for each 'hcp_type' in each 'appointment_month'\n",
    "ar_mode['proportion'] = (ar_mode['count_of_appointments'] / total_apps_per_month) * 100\n",
    "\n",
    "# Round the proportions to 1 decimal place\n",
    "ar_mode['proportion'] = ar_mode['proportion'].round(1)\n",
    "\n",
    "# Print the DataFrame\n",
    "ar_mode.head()\n"
   ]
  },
  {
   "cell_type": "code",
   "execution_count": null,
   "id": "0ab0aee1",
   "metadata": {
    "scrolled": false
   },
   "outputs": [],
   "source": [
    "fig.set_size_inches(10, 2)\n",
    "\n",
    "plt.title(\"Importance(%) of Type of Appointment across Month\")\n",
    "\n",
    "sns.lineplot(x='appointment_month', y='proportion', hue = 'appointment_mode', data=ar_mode,ci=None)\n",
    "# Place legend outside the chart\n",
    "plt.legend(loc='upper left', bbox_to_anchor=(1, 1))\n",
    "\n",
    "# Add data labels without percentage\n",
    "for line in range(0, ar_mode.shape[0]):\n",
    "    for x, y in zip(ar_mode['appointment_month'], ar_mode['proportion']):\n",
    "        label = '{:.0f}'.format(y)\n",
    "        plt.text(x, y, label, ha='center', va='bottom')\n",
    "\n",
    "\n",
    "plt.show;"
   ]
  },
  {
   "cell_type": "markdown",
   "id": "6d01ab4e",
   "metadata": {},
   "source": [
    "# Question 5:Are there any trends in time between booking an appointment?"
   ]
  },
  {
   "cell_type": "code",
   "execution_count": null,
   "id": "90b72e4c",
   "metadata": {
    "scrolled": true
   },
   "outputs": [],
   "source": [
    "# New df for appointment_tyoe\n",
    "ar_time = ar2 [['time_between_book_and_appointment', 'count_of_appointments','appointment_month']].\\\n",
    "groupby(['time_between_book_and_appointment','appointment_month']).sum().reset_index()\n",
    "ar_time"
   ]
  },
  {
   "cell_type": "code",
   "execution_count": null,
   "id": "e8b51cd0",
   "metadata": {
    "scrolled": false
   },
   "outputs": [],
   "source": [
    "ar_time.dtypes"
   ]
  },
  {
   "cell_type": "code",
   "execution_count": null,
   "id": "07f9f7cb",
   "metadata": {},
   "outputs": [],
   "source": [
    "# Convert the appointment_month to string data type for ease of visualisation.\n",
    "ar_time['appointment_month'] = ar_time['appointment_month'].values.astype('str')\n",
    "ar_time.dtypes"
   ]
  },
  {
   "cell_type": "code",
   "execution_count": null,
   "id": "29e2cc60",
   "metadata": {
    "scrolled": true
   },
   "outputs": [],
   "source": [
    "ar_time['time_between_book_and_appointment'] = ar_time['time_between_book_and_appointment'].astype('category')\n",
    "ar_time['count_of_appointments'] = pd.to_numeric(ar_time['count_of_appointments'])\n",
    "ar_time.dtypes"
   ]
  },
  {
   "cell_type": "code",
   "execution_count": null,
   "id": "c8f99e50",
   "metadata": {},
   "outputs": [],
   "source": [
    "# Set the figure size\n",
    "fig, ax = plt.subplots(figsize=(10, 5))\n",
    "\n",
    "# Title for the plot\n",
    "plt.title(\"Number of Appointments by Time Between Boking and Appointment Across Months\")\n",
    "\n",
    "# Create the line plot\n",
    "sns.lineplot(x='appointment_month', y='count_of_appointments', hue='time_between_book_and_appointment', data=ar_time, ci=None)\n",
    "# Place legend outside the chart\n",
    "plt.legend(loc='upper left', bbox_to_anchor=(1, 1))\n",
    "\n",
    "# Show the plot\n",
    "plt.show()\n"
   ]
  },
  {
   "cell_type": "code",
   "execution_count": null,
   "id": "e1dd84d1",
   "metadata": {
    "scrolled": false
   },
   "outputs": [],
   "source": [
    "# Group by 'appointment_month' and 'hcp_type', calculate sum\n",
    "ar_time = ar_appointment_status.groupby(['appointment_month', 'time_between_book_and_appointment'])['count_of_appointments'].sum().reset_index()\n",
    "\n",
    "# Calculate total appointments for each 'appointment_month'\n",
    "total_apps_per_month = ar_time.groupby('appointment_month')['count_of_appointments'].transform('sum')\n",
    "\n",
    "# Calculate proportions (%) for each 'hcp_type' in each 'appointment_month'\n",
    "ar_time['proportion'] = (ar_time['count_of_appointments'] / total_apps_per_month) * 100\n",
    "\n",
    "# Round the proportions to 1 decimal place\n",
    "ar_time['proportion'] = ar_time['proportion'].round(1)\n",
    "\n",
    "# Print the DataFrame\n",
    "ar_time.head()\n"
   ]
  },
  {
   "cell_type": "code",
   "execution_count": null,
   "id": "dd45beff",
   "metadata": {
    "scrolled": false
   },
   "outputs": [],
   "source": [
    "\n",
    "fig.set_size_inches(10, 2)\n",
    "\n",
    "plt.title(\"Importance(%) of Time Gap Between Booking and Appointment across Month\")\n",
    "\n",
    "sns.lineplot(x='appointment_month', y='proportion', hue = 'time_between_book_and_appointment', data=ar_time,ci=None)\n",
    "# Place legend outside the chart\n",
    "plt.legend(loc='upper left', bbox_to_anchor=(1, 1))\n",
    "# Add data labels without percentage\n",
    "for line in range(0, ar_time.shape[0]):\n",
    "    for x, y in zip(ar_time['appointment_month'], ar_time['proportion']):\n",
    "        label = '{:.0f}'.format(y)\n",
    "        plt.text(x, y, label, ha='center', va='bottom')\n",
    "\n",
    "\n",
    "plt.show;"
   ]
  },
  {
   "cell_type": "code",
   "execution_count": null,
   "id": "f8fb7ae1",
   "metadata": {},
   "outputs": [],
   "source": [
    "ar_time.info()"
   ]
  },
  {
   "cell_type": "markdown",
   "id": "c77f8812",
   "metadata": {},
   "source": [
    "# Question 6: How does the spread of service settings compare?"
   ]
  },
  {
   "cell_type": "code",
   "execution_count": null,
   "id": "b3b6f791",
   "metadata": {
    "scrolled": false
   },
   "outputs": [],
   "source": [
    "# Let's go back to the national category DataFrame you created in an earlier assignment activity.\n",
    "nc.head()"
   ]
  },
  {
   "cell_type": "code",
   "execution_count": null,
   "id": "227bc892",
   "metadata": {},
   "outputs": [],
   "source": [
    "nc.columns"
   ]
  },
  {
   "cell_type": "code",
   "execution_count": null,
   "id": "936d6c91",
   "metadata": {},
   "outputs": [],
   "source": [
    "nc.dtypes"
   ]
  },
  {
   "cell_type": "code",
   "execution_count": null,
   "id": "85fbdb42",
   "metadata": {
    "scrolled": true
   },
   "outputs": [],
   "source": [
    "# Create a new DataFrame consisting of the month of appointment and the number of appointments.\n",
    "nc2 = nc [['appointment_month', 'count_of_appointments', 'service_setting']].\\\n",
    "groupby(['appointment_month','service_setting']).sum().reset_index()\n",
    "\n",
    "\n",
    "# View the DataFrame.\n",
    "nc2.head()"
   ]
  },
  {
   "cell_type": "code",
   "execution_count": null,
   "id": "7625a6ca",
   "metadata": {},
   "outputs": [],
   "source": [
    "# Create the plot\n",
    "fig, ax = plt.subplots()\n",
    "fig.set_size_inches(12, 8)\n",
    "plt.title(\"Monthly Sum of Appointments\")\n",
    "sns.lineplot(x='appointment_month', y='count_of_appointments', data=nc2,ci=None)\n",
    "plt.xlabel('Month of Appointment')\n",
    "plt.ylabel('Total Appointments Per Month (in 10 Millions)')\n",
    "plt.show;"
   ]
  },
  {
   "cell_type": "code",
   "execution_count": null,
   "id": "8b524499",
   "metadata": {
    "scrolled": false
   },
   "outputs": [],
   "source": [
    "# Create a boxplot to investigate the spread of service settings.\n",
    "fig, ax = plt.subplots()\n",
    "fig.set_size_inches(12, 8)\n",
    "plt.title(\"Spread of Service Settings\")\n",
    "sns.barplot(x='appointment_month', y='count_of_appointments', hue='service_setting',\n",
    " data=nc2)\n",
    "plt.xlabel('Month of Appointment')\n",
    "plt.ylabel('Tot Appointments Per Month (in 10 Millions)')\n",
    "plt.legend(bbox_to_anchor=(1.05, 1), loc='best', borderaxespad=0)\n",
    "plt.show;"
   ]
  },
  {
   "cell_type": "code",
   "execution_count": null,
   "id": "c8c2c69c",
   "metadata": {},
   "outputs": [],
   "source": [
    "# Create a boxplot to investigate the service settings EXCLUDING GP.\n",
    "fig, ax = plt.subplots()\n",
    "fig.set_size_inches(12, 4)\n",
    "plt.title(\"Number of Appointments by Service Settings - Excluding GP\")\n",
    "sns.barplot(x='appointment_month', y='count_of_appointments', hue='service_setting',\n",
    " data=nc2[nc2.service_setting != 'General Practice'])\n",
    "plt.xlabel('Month of Appointment')\n",
    "plt.ylabel('Total Appointments Per Month (in Millions)')\n",
    "plt.legend(bbox_to_anchor=(1.05, 1), loc='best', borderaxespad=0)\n",
    "plt.show;"
   ]
  },
  {
   "cell_type": "markdown",
   "id": "fdd46686",
   "metadata": {},
   "source": [
    "### Provide a summary of your findings and recommendations based on the analysis."
   ]
  },
  {
   "cell_type": "markdown",
   "id": "afb38a10",
   "metadata": {},
   "source": [
    "> Double-click to insert your summary."
   ]
  },
  {
   "cell_type": "markdown",
   "id": "4a161935",
   "metadata": {},
   "source": [
    "# Q7) EXTRA:What are the main reasons for missed appointments?"
   ]
  },
  {
   "cell_type": "markdown",
   "id": "e2824597",
   "metadata": {},
   "source": [
    "# Missed appointments by HCP_Type"
   ]
  },
  {
   "cell_type": "code",
   "execution_count": null,
   "id": "a47600a3",
   "metadata": {},
   "outputs": [],
   "source": [
    "\n",
    "# Group by 'appointment_month' and 'hcp_type', calculate sum\n",
    "hcp_DNA = ar_DNA.groupby(['appointment_month', 'hcp_type'])['count_of_appointments'].sum().reset_index()\n",
    "hcp_DNA.head()"
   ]
  },
  {
   "cell_type": "code",
   "execution_count": null,
   "id": "31cc6141",
   "metadata": {},
   "outputs": [],
   "source": [
    "# Set the figure size\n",
    "fig, ax = plt.subplots(figsize=(10, 5))\n",
    "\n",
    "# Title for the plot\n",
    "plt.title(\"Number of Missed Appointments by HCP Type\")\n",
    "\n",
    "# Create the line plot\n",
    "sns.lineplot(x='appointment_month', y='count_of_appointments', hue='hcp_type', data=hcp_DNA, color='red', ci=None, ax=ax)\n",
    "\n",
    "# Show the plot\n",
    "plt.show()\n"
   ]
  },
  {
   "cell_type": "code",
   "execution_count": null,
   "id": "f545b22a",
   "metadata": {
    "scrolled": false
   },
   "outputs": [],
   "source": [
    "# Group by 'appointment_month' and 'hcp_type', calculate sum\n",
    "hcp_DNA = ar_DNA.groupby(['appointment_month', 'hcp_type'])['count_of_appointments'].sum().reset_index()\n",
    "\n",
    "# Calculate total appointments for each 'appointment_month'\n",
    "total_apps_per_month = hcp_DNA.groupby('appointment_month')['count_of_appointments'].transform('sum')\n",
    "\n",
    "# Calculate proportions (%) for each 'hcp_type' in each 'appointment_month'\n",
    "hcp_DNA['proportion'] = (hcp_DNA['count_of_appointments'] / total_apps_per_month) * 100\n",
    "\n",
    "# Round the proportions to 1 decimal place\n",
    "hcp_DNA['proportion'] = hcp_DNA['proportion'].round(1)\n",
    "\n",
    "# Print the DataFrame\n",
    "hcp_DNA.head()\n"
   ]
  },
  {
   "cell_type": "code",
   "execution_count": null,
   "id": "411087de",
   "metadata": {},
   "outputs": [],
   "source": [
    "fig.set_size_inches(10, 2)\n",
    "\n",
    "plt.title(\"Importance(%) of HCP Type among Missed Appointments\")\n",
    "\n",
    "sns.lineplot(x='appointment_month', y='proportion', hue = 'hcp_type', data=hcp_DNA, color='red',ci=None)\n",
    "\n",
    "plt.show;"
   ]
  },
  {
   "cell_type": "markdown",
   "id": "99c058ac",
   "metadata": {},
   "source": [
    "# Missed appointments by time_between_book_and_appointment"
   ]
  },
  {
   "cell_type": "code",
   "execution_count": null,
   "id": "03273a0b",
   "metadata": {
    "scrolled": false
   },
   "outputs": [],
   "source": [
    "# Group by 'appointment_month' and 'time_between_book_and_appointment', calculate sum\n",
    "time_DNA = ar_DNA.groupby(['appointment_month', 'time_between_book_and_appointment'])['count_of_appointments'].sum().reset_index()\n",
    "time_DNA.head()"
   ]
  },
  {
   "cell_type": "markdown",
   "id": "c64f56a5",
   "metadata": {},
   "source": [
    "# Which periods between booking and appointment show higher levels of missed appointments?"
   ]
  },
  {
   "cell_type": "code",
   "execution_count": null,
   "id": "b2593a14",
   "metadata": {},
   "outputs": [],
   "source": [
    "time_DNA.groupby(['time_between_book_and_appointment']).sum('count_of_appointments')\\\n",
    ".sort_values('count_of_appointments', ascending=False).round(1)"
   ]
  },
  {
   "cell_type": "code",
   "execution_count": null,
   "id": "46f5d266",
   "metadata": {},
   "outputs": [],
   "source": [
    "# Set the figure size\n",
    "fig, ax = plt.subplots(figsize=(10, 5))\n",
    "\n",
    "# Title for the plot\n",
    "plt.title(\"Number of Missed Appointments by Time Between Booking and Appointment\")\n",
    "\n",
    "# Create the line plot\n",
    "sns.lineplot(x='appointment_month', y='count_of_appointments', hue='time_between_book_and_appointment', data=time_DNA, color='red', ci=None, ax=ax)\n",
    "\n",
    "# Place legend outside the chart\n",
    "plt.legend(loc='upper left', bbox_to_anchor=(1, 1))\n",
    "# Show the plot\n",
    "plt.show()\n"
   ]
  },
  {
   "cell_type": "code",
   "execution_count": null,
   "id": "58898149",
   "metadata": {
    "scrolled": true
   },
   "outputs": [],
   "source": [
    "#Group by 'appointment_month' and 'time_between_book_and_appointment', calculate sum\n",
    "time_DNA = ar_DNA.groupby(['appointment_month', 'time_between_book_and_appointment'])['count_of_appointments'].sum().reset_index()\n",
    "\n",
    "# Calculate total appointments for each 'appointment_month'\n",
    "total_apps_per_month = time_DNA.groupby('appointment_month')['count_of_appointments'].transform('sum')\n",
    "\n",
    "# Calculate proportions (%) for each 'hcp_type' in each 'appointment_month'\n",
    "time_DNA['proportion'] = (time_DNA['count_of_appointments'] / total_apps_per_month) * 100\n",
    "\n",
    "# Round the proportions to 1 decimal place\n",
    "time_DNA['proportion'] = time_DNA['proportion'].round(1)\n",
    "\n",
    "# Print the DataFrame\n",
    "time_DNA\n"
   ]
  },
  {
   "cell_type": "code",
   "execution_count": null,
   "id": "6af36921",
   "metadata": {},
   "outputs": [],
   "source": [
    "# Set the figure size\n",
    "fig = plt.figure(figsize=(10, 10))\n",
    "\n",
    "# Set the title\n",
    "plt.title('Importance (%) of Period Between Booking and Appointment among Missed Appointments')\n",
    "\n",
    "# Create the line plot\n",
    "sns.lineplot(x='appointment_month', y='proportion', hue='time_between_book_and_appointment', data=time_DNA, ci=None)\n",
    "\n",
    "# Add data labels\n",
    "for line in range(0, time_DNA.shape[0]):\n",
    "    for x, y in zip(time_DNA['appointment_month'], time_DNA['proportion']):\n",
    "        label = '{:.0f}%'.format(y)\n",
    "        plt.text(x, y, label, ha='center', va='bottom')\n",
    "\n",
    "# Place legend outside the chart\n",
    "plt.legend(loc='upper left', bbox_to_anchor=(1, 1))\n",
    "\n",
    "# Display the plot\n",
    "plt.show()\n"
   ]
  },
  {
   "cell_type": "markdown",
   "id": "560312db",
   "metadata": {},
   "source": [
    "# Missed appointments by Appointment Mode"
   ]
  },
  {
   "cell_type": "code",
   "execution_count": null,
   "id": "2bded088",
   "metadata": {},
   "outputs": [],
   "source": [
    "# Group by 'appointment_month' and 'time_between_book_and_appointment', calculate sum\n",
    "mode_DNA = ar_DNA.groupby(['appointment_month', 'appointment_mode'])['count_of_appointments'].sum().reset_index()\n",
    "mode_DNA.head()"
   ]
  },
  {
   "cell_type": "code",
   "execution_count": null,
   "id": "63b69373",
   "metadata": {},
   "outputs": [],
   "source": [
    "# Which appointments months? show higher levels of missed appointments?"
   ]
  },
  {
   "cell_type": "code",
   "execution_count": null,
   "id": "a2263fbf",
   "metadata": {},
   "outputs": [],
   "source": [
    "mode_DNA.groupby(['appointment_mode']).sum('count_of_appointments').sort_values('count_of_appointments', ascending=False).round(1)"
   ]
  },
  {
   "cell_type": "code",
   "execution_count": null,
   "id": "94ac39da",
   "metadata": {},
   "outputs": [],
   "source": [
    "# Convert 'appointment_month' to categorical\n",
    "mode_DNA['appointment_month'] = pd.Categorical(mode_DNA['appointment_month'], categories=mode_DNA['appointment_month'].unique(), ordered=True)\n",
    "\n",
    "# Set the figure size\n",
    "fig, ax = plt.subplots(figsize=(10, 5))\n",
    "\n",
    "# Title for the plot\n",
    "plt.title(\"Number of Missed Appointments by Appointment Mode across Months\")\n",
    "\n",
    "# Create the line plot\n",
    "sns.lineplot(x='appointment_month', y='count_of_appointments', hue='appointment_mode', data=mode_DNA, ci=None)\n",
    "\n",
    "# Show the plot\n",
    "plt.show()\n",
    "\n"
   ]
  },
  {
   "cell_type": "code",
   "execution_count": null,
   "id": "ce0aecba",
   "metadata": {
    "scrolled": true
   },
   "outputs": [],
   "source": [
    "# Calculate total appointments for each 'appointment_month'\n",
    "total_apps_per_month = mode_DNA.groupby('appointment_month')['count_of_appointments'].transform('sum')\n",
    "\n",
    "# Calculate proportions (%) for each 'hcp_type' in each 'appointment_month'\n",
    "mode_DNA['proportion'] = (mode_DNA['count_of_appointments'] / total_apps_per_month) * 100\n",
    "\n",
    "# Round the proportions to 1 decimal place\n",
    "mode_DNA['proportion'] = mode_DNA['proportion'].round(1)\n",
    "\n",
    "# Print the DataFrame\n",
    "mode_DNA\n"
   ]
  },
  {
   "cell_type": "code",
   "execution_count": null,
   "id": "60125089",
   "metadata": {
    "scrolled": true
   },
   "outputs": [],
   "source": [
    "# Set the figure size\n",
    "fig, ax = plt.subplots(figsize=(10, 5))\n",
    "\n",
    "# Title for the plot\n",
    "plt.title(\"% of Missed Appointments by Appointment Mode\")\n",
    "\n",
    "# Create the stacked bar plot\n",
    "sns.barplot(x='appointment_month', y='proportion', hue='appointment_mode', data=mode_DNA, ci=None)\n",
    "\n",
    "# Add data labels with one decimal place\n",
    "for p in ax.patches:\n",
    "    width = p.get_width()\n",
    "    height = p.get_height()\n",
    "    x, y = p.get_xy()\n",
    "    ax.annotate(f'{height:.1f}', (x + width/2, y + height/2), ha='center', va='center')\n",
    "\n",
    "# Show the plot\n",
    "plt.show()"
   ]
  },
  {
   "cell_type": "code",
   "execution_count": null,
   "id": "0c24b181",
   "metadata": {},
   "outputs": [],
   "source": []
  }
 ],
 "metadata": {
  "kernelspec": {
   "display_name": "Python 3 (ipykernel)",
   "language": "python",
   "name": "python3"
  },
  "language_info": {
   "codemirror_mode": {
    "name": "ipython",
    "version": 3
   },
   "file_extension": ".py",
   "mimetype": "text/x-python",
   "name": "python",
   "nbconvert_exporter": "python",
   "pygments_lexer": "ipython3",
   "version": "3.11.5"
  }
 },
 "nbformat": 4,
 "nbformat_minor": 5
}
